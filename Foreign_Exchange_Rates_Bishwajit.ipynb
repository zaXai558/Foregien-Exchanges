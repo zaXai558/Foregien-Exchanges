{
  "nbformat": 4,
  "nbformat_minor": 0,
  "metadata": {
    "colab": {
      "name": "Foreign Exchange Rates Bishwajit.ipynb",
      "provenance": [],
      "collapsed_sections": []
    },
    "kernelspec": {
      "name": "python3",
      "display_name": "Python 3"
    }
  },
  "cells": [
    {
      "cell_type": "markdown",
      "metadata": {
        "id": "IyMfDzM2vvby",
        "colab_type": "text"
      },
      "source": [
        "# **Data Description**"
      ]
    },
    {
      "cell_type": "markdown",
      "metadata": {
        "id": "FuNEe3_iv-dM",
        "colab_type": "text"
      },
      "source": [
        "This datasets were generated on the Federal Reserve's Download Data Program. Some changes were made in the dataset, such as header simplifications and inversions of base currency. For example, Fed provides Australian Dollar, Euro, New Zeland Dollar and United Kingdom Pound based in their units (not in dollar). So I made a convertion for this dataset in order to view all rates based in dollar units."
      ]
    },
    {
      "cell_type": "code",
      "metadata": {
        "id": "3LtuxHnrzwTT",
        "colab_type": "code",
        "colab": {}
      },
      "source": [
        "#importinf library\n",
        "import pandas as pd\n",
        "import seaborn as sns\n",
        "import matplotlib.pyplot as plt\n",
        "import numpy as np\n",
        "from statsmodels.graphics.tsaplots import plot_acf, plot_pacf \n",
        "from sklearn.model_selection import train_test_split\n",
        "from keras.models import Sequential\n",
        "from keras.layers import LSTM\n",
        "from keras.layers import Dense"
      ],
      "execution_count": 0,
      "outputs": []
    },
    {
      "cell_type": "markdown",
      "metadata": {
        "id": "zSTpeFM-_LNR",
        "colab_type": "text"
      },
      "source": [
        "# **Data Cleaning**"
      ]
    },
    {
      "cell_type": "code",
      "metadata": {
        "id": "LWj_OyI2XCLE",
        "colab_type": "code",
        "outputId": "50bdaf13-7adb-4133-808b-21b7615d268e",
        "colab": {
          "base_uri": "https://localhost:8080/",
          "height": 677
        }
      },
      "source": [
        "#load and look at the raw data given\n",
        "df = pd.read_csv(\"Foreign_Exchange_Rates.csv\")\n",
        "df"
      ],
      "execution_count": 98,
      "outputs": [
        {
          "output_type": "execute_result",
          "data": {
            "text/html": [
              "<div>\n",
              "<style scoped>\n",
              "    .dataframe tbody tr th:only-of-type {\n",
              "        vertical-align: middle;\n",
              "    }\n",
              "\n",
              "    .dataframe tbody tr th {\n",
              "        vertical-align: top;\n",
              "    }\n",
              "\n",
              "    .dataframe thead th {\n",
              "        text-align: right;\n",
              "    }\n",
              "</style>\n",
              "<table border=\"1\" class=\"dataframe\">\n",
              "  <thead>\n",
              "    <tr style=\"text-align: right;\">\n",
              "      <th></th>\n",
              "      <th>Unnamed: 0</th>\n",
              "      <th>Time Serie</th>\n",
              "      <th>AUSTRALIA - AUSTRALIAN DOLLAR/US$</th>\n",
              "      <th>EURO AREA - EURO/US$</th>\n",
              "      <th>NEW ZEALAND - NEW ZELAND DOLLAR/US$</th>\n",
              "      <th>UNITED KINGDOM - UNITED KINGDOM POUND/US$</th>\n",
              "      <th>BRAZIL - REAL/US$</th>\n",
              "      <th>CANADA - CANADIAN DOLLAR/US$</th>\n",
              "      <th>CHINA - YUAN/US$</th>\n",
              "      <th>HONG KONG - HONG KONG DOLLAR/US$</th>\n",
              "      <th>INDIA - INDIAN RUPEE/US$</th>\n",
              "      <th>KOREA - WON/US$</th>\n",
              "      <th>MEXICO - MEXICAN PESO/US$</th>\n",
              "      <th>SOUTH AFRICA - RAND/US$</th>\n",
              "      <th>SINGAPORE - SINGAPORE DOLLAR/US$</th>\n",
              "      <th>DENMARK - DANISH KRONE/US$</th>\n",
              "      <th>JAPAN - YEN/US$</th>\n",
              "      <th>MALAYSIA - RINGGIT/US$</th>\n",
              "      <th>NORWAY - NORWEGIAN KRONE/US$</th>\n",
              "      <th>SWEDEN - KRONA/US$</th>\n",
              "      <th>SRI LANKA - SRI LANKAN RUPEE/US$</th>\n",
              "      <th>SWITZERLAND - FRANC/US$</th>\n",
              "      <th>TAIWAN - NEW TAIWAN DOLLAR/US$</th>\n",
              "      <th>THAILAND - BAHT/US$</th>\n",
              "    </tr>\n",
              "  </thead>\n",
              "  <tbody>\n",
              "    <tr>\n",
              "      <th>0</th>\n",
              "      <td>0</td>\n",
              "      <td>2000-01-03</td>\n",
              "      <td>1.5172</td>\n",
              "      <td>0.9847</td>\n",
              "      <td>1.9033</td>\n",
              "      <td>0.6146</td>\n",
              "      <td>1.805</td>\n",
              "      <td>1.4465</td>\n",
              "      <td>8.2798</td>\n",
              "      <td>7.7765</td>\n",
              "      <td>43.55</td>\n",
              "      <td>1128</td>\n",
              "      <td>9.4015</td>\n",
              "      <td>6.126</td>\n",
              "      <td>1.6563</td>\n",
              "      <td>7.329</td>\n",
              "      <td>101.7</td>\n",
              "      <td>3.8</td>\n",
              "      <td>7.964</td>\n",
              "      <td>8.443</td>\n",
              "      <td>72.3</td>\n",
              "      <td>1.5808</td>\n",
              "      <td>31.38</td>\n",
              "      <td>36.97</td>\n",
              "    </tr>\n",
              "    <tr>\n",
              "      <th>1</th>\n",
              "      <td>1</td>\n",
              "      <td>2000-01-04</td>\n",
              "      <td>1.5239</td>\n",
              "      <td>0.97</td>\n",
              "      <td>1.9238</td>\n",
              "      <td>0.6109</td>\n",
              "      <td>1.8405</td>\n",
              "      <td>1.4518</td>\n",
              "      <td>8.2799</td>\n",
              "      <td>7.7775</td>\n",
              "      <td>43.55</td>\n",
              "      <td>1122.5</td>\n",
              "      <td>9.457</td>\n",
              "      <td>6.085</td>\n",
              "      <td>1.6535</td>\n",
              "      <td>7.218</td>\n",
              "      <td>103.09</td>\n",
              "      <td>3.8</td>\n",
              "      <td>7.934</td>\n",
              "      <td>8.36</td>\n",
              "      <td>72.65</td>\n",
              "      <td>1.5565</td>\n",
              "      <td>30.6</td>\n",
              "      <td>37.13</td>\n",
              "    </tr>\n",
              "    <tr>\n",
              "      <th>2</th>\n",
              "      <td>2</td>\n",
              "      <td>2000-01-05</td>\n",
              "      <td>1.5267</td>\n",
              "      <td>0.9676</td>\n",
              "      <td>1.9339</td>\n",
              "      <td>0.6092</td>\n",
              "      <td>1.856</td>\n",
              "      <td>1.4518</td>\n",
              "      <td>8.2798</td>\n",
              "      <td>7.778</td>\n",
              "      <td>43.55</td>\n",
              "      <td>1135</td>\n",
              "      <td>9.535</td>\n",
              "      <td>6.07</td>\n",
              "      <td>1.656</td>\n",
              "      <td>7.208</td>\n",
              "      <td>103.77</td>\n",
              "      <td>3.8</td>\n",
              "      <td>7.935</td>\n",
              "      <td>8.353</td>\n",
              "      <td>72.95</td>\n",
              "      <td>1.5526</td>\n",
              "      <td>30.8</td>\n",
              "      <td>37.1</td>\n",
              "    </tr>\n",
              "    <tr>\n",
              "      <th>3</th>\n",
              "      <td>3</td>\n",
              "      <td>2000-01-06</td>\n",
              "      <td>1.5291</td>\n",
              "      <td>0.9686</td>\n",
              "      <td>1.9436</td>\n",
              "      <td>0.607</td>\n",
              "      <td>1.84</td>\n",
              "      <td>1.4571</td>\n",
              "      <td>8.2797</td>\n",
              "      <td>7.7785</td>\n",
              "      <td>43.55</td>\n",
              "      <td>1146.5</td>\n",
              "      <td>9.567</td>\n",
              "      <td>6.08</td>\n",
              "      <td>1.6655</td>\n",
              "      <td>7.2125</td>\n",
              "      <td>105.19</td>\n",
              "      <td>3.8</td>\n",
              "      <td>7.94</td>\n",
              "      <td>8.3675</td>\n",
              "      <td>72.95</td>\n",
              "      <td>1.554</td>\n",
              "      <td>31.75</td>\n",
              "      <td>37.62</td>\n",
              "    </tr>\n",
              "    <tr>\n",
              "      <th>4</th>\n",
              "      <td>4</td>\n",
              "      <td>2000-01-07</td>\n",
              "      <td>1.5272</td>\n",
              "      <td>0.9714</td>\n",
              "      <td>1.938</td>\n",
              "      <td>0.6104</td>\n",
              "      <td>1.831</td>\n",
              "      <td>1.4505</td>\n",
              "      <td>8.2794</td>\n",
              "      <td>7.7783</td>\n",
              "      <td>43.55</td>\n",
              "      <td>1138</td>\n",
              "      <td>9.52</td>\n",
              "      <td>6.057</td>\n",
              "      <td>1.6625</td>\n",
              "      <td>7.2285</td>\n",
              "      <td>105.17</td>\n",
              "      <td>3.8</td>\n",
              "      <td>7.966</td>\n",
              "      <td>8.415</td>\n",
              "      <td>73.15</td>\n",
              "      <td>1.5623</td>\n",
              "      <td>30.85</td>\n",
              "      <td>37.3</td>\n",
              "    </tr>\n",
              "    <tr>\n",
              "      <th>...</th>\n",
              "      <td>...</td>\n",
              "      <td>...</td>\n",
              "      <td>...</td>\n",
              "      <td>...</td>\n",
              "      <td>...</td>\n",
              "      <td>...</td>\n",
              "      <td>...</td>\n",
              "      <td>...</td>\n",
              "      <td>...</td>\n",
              "      <td>...</td>\n",
              "      <td>...</td>\n",
              "      <td>...</td>\n",
              "      <td>...</td>\n",
              "      <td>...</td>\n",
              "      <td>...</td>\n",
              "      <td>...</td>\n",
              "      <td>...</td>\n",
              "      <td>...</td>\n",
              "      <td>...</td>\n",
              "      <td>...</td>\n",
              "      <td>...</td>\n",
              "      <td>...</td>\n",
              "      <td>...</td>\n",
              "      <td>...</td>\n",
              "    </tr>\n",
              "    <tr>\n",
              "      <th>5212</th>\n",
              "      <td>5212</td>\n",
              "      <td>2019-12-25</td>\n",
              "      <td>ND</td>\n",
              "      <td>ND</td>\n",
              "      <td>ND</td>\n",
              "      <td>ND</td>\n",
              "      <td>ND</td>\n",
              "      <td>ND</td>\n",
              "      <td>ND</td>\n",
              "      <td>ND</td>\n",
              "      <td>ND</td>\n",
              "      <td>ND</td>\n",
              "      <td>ND</td>\n",
              "      <td>ND</td>\n",
              "      <td>ND</td>\n",
              "      <td>ND</td>\n",
              "      <td>ND</td>\n",
              "      <td>ND</td>\n",
              "      <td>ND</td>\n",
              "      <td>ND</td>\n",
              "      <td>ND</td>\n",
              "      <td>ND</td>\n",
              "      <td>ND</td>\n",
              "      <td>ND</td>\n",
              "    </tr>\n",
              "    <tr>\n",
              "      <th>5213</th>\n",
              "      <td>5213</td>\n",
              "      <td>2019-12-26</td>\n",
              "      <td>1.4411</td>\n",
              "      <td>0.9007</td>\n",
              "      <td>1.5002</td>\n",
              "      <td>0.7688</td>\n",
              "      <td>4.0602</td>\n",
              "      <td>1.3124</td>\n",
              "      <td>6.9949</td>\n",
              "      <td>7.788</td>\n",
              "      <td>71.28</td>\n",
              "      <td>1161.18</td>\n",
              "      <td>18.944</td>\n",
              "      <td>14.132</td>\n",
              "      <td>1.354</td>\n",
              "      <td>6.7295</td>\n",
              "      <td>109.67</td>\n",
              "      <td>4.1337</td>\n",
              "      <td>8.8799</td>\n",
              "      <td>9.4108</td>\n",
              "      <td>181.3</td>\n",
              "      <td>0.9808</td>\n",
              "      <td>30.11</td>\n",
              "      <td>30.15</td>\n",
              "    </tr>\n",
              "    <tr>\n",
              "      <th>5214</th>\n",
              "      <td>5214</td>\n",
              "      <td>2019-12-27</td>\n",
              "      <td>1.4331</td>\n",
              "      <td>0.8949</td>\n",
              "      <td>1.4919</td>\n",
              "      <td>0.7639</td>\n",
              "      <td>4.0507</td>\n",
              "      <td>1.3073</td>\n",
              "      <td>6.9954</td>\n",
              "      <td>7.7874</td>\n",
              "      <td>71.45</td>\n",
              "      <td>1160.87</td>\n",
              "      <td>18.819</td>\n",
              "      <td>14.025</td>\n",
              "      <td>1.352</td>\n",
              "      <td>6.6829</td>\n",
              "      <td>109.47</td>\n",
              "      <td>4.126</td>\n",
              "      <td>8.8291</td>\n",
              "      <td>9.3405</td>\n",
              "      <td>181.35</td>\n",
              "      <td>0.9741</td>\n",
              "      <td>30.09</td>\n",
              "      <td>30.14</td>\n",
              "    </tr>\n",
              "    <tr>\n",
              "      <th>5215</th>\n",
              "      <td>5215</td>\n",
              "      <td>2019-12-30</td>\n",
              "      <td>1.4278</td>\n",
              "      <td>0.8915</td>\n",
              "      <td>1.4846</td>\n",
              "      <td>0.761</td>\n",
              "      <td>4.0152</td>\n",
              "      <td>1.3058</td>\n",
              "      <td>6.9864</td>\n",
              "      <td>7.7857</td>\n",
              "      <td>71.3</td>\n",
              "      <td>1155.75</td>\n",
              "      <td>18.863</td>\n",
              "      <td>14.056</td>\n",
              "      <td>1.3483</td>\n",
              "      <td>6.6589</td>\n",
              "      <td>108.85</td>\n",
              "      <td>4.1053</td>\n",
              "      <td>8.7839</td>\n",
              "      <td>9.3145</td>\n",
              "      <td>181.6</td>\n",
              "      <td>0.9677</td>\n",
              "      <td>30.04</td>\n",
              "      <td>29.94</td>\n",
              "    </tr>\n",
              "    <tr>\n",
              "      <th>5216</th>\n",
              "      <td>5216</td>\n",
              "      <td>2019-12-31</td>\n",
              "      <td>1.4225</td>\n",
              "      <td>0.8907</td>\n",
              "      <td>1.4826</td>\n",
              "      <td>0.7536</td>\n",
              "      <td>4.019</td>\n",
              "      <td>1.2962</td>\n",
              "      <td>6.9618</td>\n",
              "      <td>7.7894</td>\n",
              "      <td>71.36</td>\n",
              "      <td>1155.46</td>\n",
              "      <td>18.86</td>\n",
              "      <td>13.973</td>\n",
              "      <td>1.3446</td>\n",
              "      <td>6.6554</td>\n",
              "      <td>108.67</td>\n",
              "      <td>4.0918</td>\n",
              "      <td>8.7823</td>\n",
              "      <td>9.3425</td>\n",
              "      <td>181.3</td>\n",
              "      <td>0.9677</td>\n",
              "      <td>29.91</td>\n",
              "      <td>29.75</td>\n",
              "    </tr>\n",
              "  </tbody>\n",
              "</table>\n",
              "<p>5217 rows × 24 columns</p>\n",
              "</div>"
            ],
            "text/plain": [
              "      Unnamed: 0  Time Serie  ... TAIWAN - NEW TAIWAN DOLLAR/US$ THAILAND - BAHT/US$\n",
              "0              0  2000-01-03  ...                          31.38               36.97\n",
              "1              1  2000-01-04  ...                           30.6               37.13\n",
              "2              2  2000-01-05  ...                           30.8                37.1\n",
              "3              3  2000-01-06  ...                          31.75               37.62\n",
              "4              4  2000-01-07  ...                          30.85                37.3\n",
              "...          ...         ...  ...                            ...                 ...\n",
              "5212        5212  2019-12-25  ...                             ND                  ND\n",
              "5213        5213  2019-12-26  ...                          30.11               30.15\n",
              "5214        5214  2019-12-27  ...                          30.09               30.14\n",
              "5215        5215  2019-12-30  ...                          30.04               29.94\n",
              "5216        5216  2019-12-31  ...                          29.91               29.75\n",
              "\n",
              "[5217 rows x 24 columns]"
            ]
          },
          "metadata": {
            "tags": []
          },
          "execution_count": 98
        }
      ]
    },
    {
      "cell_type": "markdown",
      "metadata": {
        "id": "rYpasYZ3TN-N",
        "colab_type": "text"
      },
      "source": [
        "so when you look at the data there was a column of Unnamed: 0 which was just default indexing so removing it was necessary, and the column which contains date was given with index of Time serie so we renamed it to DATE why? well its easy to understand, a set of dates if its named DATE make sense. Again, if you see above dataframe the indexing for every country is given something like 'AUSTRALIA - AUSTRALIAN DOLLAR/US$' which represents country's name followed by -sign and then currency of the country/U.S. dollar. So we Just replace this with each country name and its **given the rates are w.r.t US Dollar** "
      ]
    },
    {
      "cell_type": "code",
      "metadata": {
        "id": "i6IdWfaKz8CY",
        "colab_type": "code",
        "outputId": "e253e64a-1d20-496e-d991-a269c75ab96e",
        "colab": {
          "base_uri": "https://localhost:8080/",
          "height": 626
        }
      },
      "source": [
        "df = pd.read_csv(\"Foreign_Exchange_Rates.csv\")\n",
        "df = df.drop(columns=[\"Unnamed: 0\"])\n",
        "newColumns = list(map(lambda c: c.split(\" - \")[0] if \"-\" in c else \"DATE\", df.columns))\n",
        "newColumns\n",
        "df.columns = newColumns\n",
        "df"
      ],
      "execution_count": 99,
      "outputs": [
        {
          "output_type": "execute_result",
          "data": {
            "text/html": [
              "<div>\n",
              "<style scoped>\n",
              "    .dataframe tbody tr th:only-of-type {\n",
              "        vertical-align: middle;\n",
              "    }\n",
              "\n",
              "    .dataframe tbody tr th {\n",
              "        vertical-align: top;\n",
              "    }\n",
              "\n",
              "    .dataframe thead th {\n",
              "        text-align: right;\n",
              "    }\n",
              "</style>\n",
              "<table border=\"1\" class=\"dataframe\">\n",
              "  <thead>\n",
              "    <tr style=\"text-align: right;\">\n",
              "      <th></th>\n",
              "      <th>DATE</th>\n",
              "      <th>AUSTRALIA</th>\n",
              "      <th>EURO AREA</th>\n",
              "      <th>NEW ZEALAND</th>\n",
              "      <th>UNITED KINGDOM</th>\n",
              "      <th>BRAZIL</th>\n",
              "      <th>CANADA</th>\n",
              "      <th>CHINA</th>\n",
              "      <th>HONG KONG</th>\n",
              "      <th>INDIA</th>\n",
              "      <th>KOREA</th>\n",
              "      <th>MEXICO</th>\n",
              "      <th>SOUTH AFRICA</th>\n",
              "      <th>SINGAPORE</th>\n",
              "      <th>DENMARK</th>\n",
              "      <th>JAPAN</th>\n",
              "      <th>MALAYSIA</th>\n",
              "      <th>NORWAY</th>\n",
              "      <th>SWEDEN</th>\n",
              "      <th>SRI LANKA</th>\n",
              "      <th>SWITZERLAND</th>\n",
              "      <th>TAIWAN</th>\n",
              "      <th>THAILAND</th>\n",
              "    </tr>\n",
              "  </thead>\n",
              "  <tbody>\n",
              "    <tr>\n",
              "      <th>0</th>\n",
              "      <td>2000-01-03</td>\n",
              "      <td>1.5172</td>\n",
              "      <td>0.9847</td>\n",
              "      <td>1.9033</td>\n",
              "      <td>0.6146</td>\n",
              "      <td>1.805</td>\n",
              "      <td>1.4465</td>\n",
              "      <td>8.2798</td>\n",
              "      <td>7.7765</td>\n",
              "      <td>43.55</td>\n",
              "      <td>1128</td>\n",
              "      <td>9.4015</td>\n",
              "      <td>6.126</td>\n",
              "      <td>1.6563</td>\n",
              "      <td>7.329</td>\n",
              "      <td>101.7</td>\n",
              "      <td>3.8</td>\n",
              "      <td>7.964</td>\n",
              "      <td>8.443</td>\n",
              "      <td>72.3</td>\n",
              "      <td>1.5808</td>\n",
              "      <td>31.38</td>\n",
              "      <td>36.97</td>\n",
              "    </tr>\n",
              "    <tr>\n",
              "      <th>1</th>\n",
              "      <td>2000-01-04</td>\n",
              "      <td>1.5239</td>\n",
              "      <td>0.97</td>\n",
              "      <td>1.9238</td>\n",
              "      <td>0.6109</td>\n",
              "      <td>1.8405</td>\n",
              "      <td>1.4518</td>\n",
              "      <td>8.2799</td>\n",
              "      <td>7.7775</td>\n",
              "      <td>43.55</td>\n",
              "      <td>1122.5</td>\n",
              "      <td>9.457</td>\n",
              "      <td>6.085</td>\n",
              "      <td>1.6535</td>\n",
              "      <td>7.218</td>\n",
              "      <td>103.09</td>\n",
              "      <td>3.8</td>\n",
              "      <td>7.934</td>\n",
              "      <td>8.36</td>\n",
              "      <td>72.65</td>\n",
              "      <td>1.5565</td>\n",
              "      <td>30.6</td>\n",
              "      <td>37.13</td>\n",
              "    </tr>\n",
              "    <tr>\n",
              "      <th>2</th>\n",
              "      <td>2000-01-05</td>\n",
              "      <td>1.5267</td>\n",
              "      <td>0.9676</td>\n",
              "      <td>1.9339</td>\n",
              "      <td>0.6092</td>\n",
              "      <td>1.856</td>\n",
              "      <td>1.4518</td>\n",
              "      <td>8.2798</td>\n",
              "      <td>7.778</td>\n",
              "      <td>43.55</td>\n",
              "      <td>1135</td>\n",
              "      <td>9.535</td>\n",
              "      <td>6.07</td>\n",
              "      <td>1.656</td>\n",
              "      <td>7.208</td>\n",
              "      <td>103.77</td>\n",
              "      <td>3.8</td>\n",
              "      <td>7.935</td>\n",
              "      <td>8.353</td>\n",
              "      <td>72.95</td>\n",
              "      <td>1.5526</td>\n",
              "      <td>30.8</td>\n",
              "      <td>37.1</td>\n",
              "    </tr>\n",
              "    <tr>\n",
              "      <th>3</th>\n",
              "      <td>2000-01-06</td>\n",
              "      <td>1.5291</td>\n",
              "      <td>0.9686</td>\n",
              "      <td>1.9436</td>\n",
              "      <td>0.607</td>\n",
              "      <td>1.84</td>\n",
              "      <td>1.4571</td>\n",
              "      <td>8.2797</td>\n",
              "      <td>7.7785</td>\n",
              "      <td>43.55</td>\n",
              "      <td>1146.5</td>\n",
              "      <td>9.567</td>\n",
              "      <td>6.08</td>\n",
              "      <td>1.6655</td>\n",
              "      <td>7.2125</td>\n",
              "      <td>105.19</td>\n",
              "      <td>3.8</td>\n",
              "      <td>7.94</td>\n",
              "      <td>8.3675</td>\n",
              "      <td>72.95</td>\n",
              "      <td>1.554</td>\n",
              "      <td>31.75</td>\n",
              "      <td>37.62</td>\n",
              "    </tr>\n",
              "    <tr>\n",
              "      <th>4</th>\n",
              "      <td>2000-01-07</td>\n",
              "      <td>1.5272</td>\n",
              "      <td>0.9714</td>\n",
              "      <td>1.938</td>\n",
              "      <td>0.6104</td>\n",
              "      <td>1.831</td>\n",
              "      <td>1.4505</td>\n",
              "      <td>8.2794</td>\n",
              "      <td>7.7783</td>\n",
              "      <td>43.55</td>\n",
              "      <td>1138</td>\n",
              "      <td>9.52</td>\n",
              "      <td>6.057</td>\n",
              "      <td>1.6625</td>\n",
              "      <td>7.2285</td>\n",
              "      <td>105.17</td>\n",
              "      <td>3.8</td>\n",
              "      <td>7.966</td>\n",
              "      <td>8.415</td>\n",
              "      <td>73.15</td>\n",
              "      <td>1.5623</td>\n",
              "      <td>30.85</td>\n",
              "      <td>37.3</td>\n",
              "    </tr>\n",
              "    <tr>\n",
              "      <th>...</th>\n",
              "      <td>...</td>\n",
              "      <td>...</td>\n",
              "      <td>...</td>\n",
              "      <td>...</td>\n",
              "      <td>...</td>\n",
              "      <td>...</td>\n",
              "      <td>...</td>\n",
              "      <td>...</td>\n",
              "      <td>...</td>\n",
              "      <td>...</td>\n",
              "      <td>...</td>\n",
              "      <td>...</td>\n",
              "      <td>...</td>\n",
              "      <td>...</td>\n",
              "      <td>...</td>\n",
              "      <td>...</td>\n",
              "      <td>...</td>\n",
              "      <td>...</td>\n",
              "      <td>...</td>\n",
              "      <td>...</td>\n",
              "      <td>...</td>\n",
              "      <td>...</td>\n",
              "      <td>...</td>\n",
              "    </tr>\n",
              "    <tr>\n",
              "      <th>5212</th>\n",
              "      <td>2019-12-25</td>\n",
              "      <td>ND</td>\n",
              "      <td>ND</td>\n",
              "      <td>ND</td>\n",
              "      <td>ND</td>\n",
              "      <td>ND</td>\n",
              "      <td>ND</td>\n",
              "      <td>ND</td>\n",
              "      <td>ND</td>\n",
              "      <td>ND</td>\n",
              "      <td>ND</td>\n",
              "      <td>ND</td>\n",
              "      <td>ND</td>\n",
              "      <td>ND</td>\n",
              "      <td>ND</td>\n",
              "      <td>ND</td>\n",
              "      <td>ND</td>\n",
              "      <td>ND</td>\n",
              "      <td>ND</td>\n",
              "      <td>ND</td>\n",
              "      <td>ND</td>\n",
              "      <td>ND</td>\n",
              "      <td>ND</td>\n",
              "    </tr>\n",
              "    <tr>\n",
              "      <th>5213</th>\n",
              "      <td>2019-12-26</td>\n",
              "      <td>1.4411</td>\n",
              "      <td>0.9007</td>\n",
              "      <td>1.5002</td>\n",
              "      <td>0.7688</td>\n",
              "      <td>4.0602</td>\n",
              "      <td>1.3124</td>\n",
              "      <td>6.9949</td>\n",
              "      <td>7.788</td>\n",
              "      <td>71.28</td>\n",
              "      <td>1161.18</td>\n",
              "      <td>18.944</td>\n",
              "      <td>14.132</td>\n",
              "      <td>1.354</td>\n",
              "      <td>6.7295</td>\n",
              "      <td>109.67</td>\n",
              "      <td>4.1337</td>\n",
              "      <td>8.8799</td>\n",
              "      <td>9.4108</td>\n",
              "      <td>181.3</td>\n",
              "      <td>0.9808</td>\n",
              "      <td>30.11</td>\n",
              "      <td>30.15</td>\n",
              "    </tr>\n",
              "    <tr>\n",
              "      <th>5214</th>\n",
              "      <td>2019-12-27</td>\n",
              "      <td>1.4331</td>\n",
              "      <td>0.8949</td>\n",
              "      <td>1.4919</td>\n",
              "      <td>0.7639</td>\n",
              "      <td>4.0507</td>\n",
              "      <td>1.3073</td>\n",
              "      <td>6.9954</td>\n",
              "      <td>7.7874</td>\n",
              "      <td>71.45</td>\n",
              "      <td>1160.87</td>\n",
              "      <td>18.819</td>\n",
              "      <td>14.025</td>\n",
              "      <td>1.352</td>\n",
              "      <td>6.6829</td>\n",
              "      <td>109.47</td>\n",
              "      <td>4.126</td>\n",
              "      <td>8.8291</td>\n",
              "      <td>9.3405</td>\n",
              "      <td>181.35</td>\n",
              "      <td>0.9741</td>\n",
              "      <td>30.09</td>\n",
              "      <td>30.14</td>\n",
              "    </tr>\n",
              "    <tr>\n",
              "      <th>5215</th>\n",
              "      <td>2019-12-30</td>\n",
              "      <td>1.4278</td>\n",
              "      <td>0.8915</td>\n",
              "      <td>1.4846</td>\n",
              "      <td>0.761</td>\n",
              "      <td>4.0152</td>\n",
              "      <td>1.3058</td>\n",
              "      <td>6.9864</td>\n",
              "      <td>7.7857</td>\n",
              "      <td>71.3</td>\n",
              "      <td>1155.75</td>\n",
              "      <td>18.863</td>\n",
              "      <td>14.056</td>\n",
              "      <td>1.3483</td>\n",
              "      <td>6.6589</td>\n",
              "      <td>108.85</td>\n",
              "      <td>4.1053</td>\n",
              "      <td>8.7839</td>\n",
              "      <td>9.3145</td>\n",
              "      <td>181.6</td>\n",
              "      <td>0.9677</td>\n",
              "      <td>30.04</td>\n",
              "      <td>29.94</td>\n",
              "    </tr>\n",
              "    <tr>\n",
              "      <th>5216</th>\n",
              "      <td>2019-12-31</td>\n",
              "      <td>1.4225</td>\n",
              "      <td>0.8907</td>\n",
              "      <td>1.4826</td>\n",
              "      <td>0.7536</td>\n",
              "      <td>4.019</td>\n",
              "      <td>1.2962</td>\n",
              "      <td>6.9618</td>\n",
              "      <td>7.7894</td>\n",
              "      <td>71.36</td>\n",
              "      <td>1155.46</td>\n",
              "      <td>18.86</td>\n",
              "      <td>13.973</td>\n",
              "      <td>1.3446</td>\n",
              "      <td>6.6554</td>\n",
              "      <td>108.67</td>\n",
              "      <td>4.0918</td>\n",
              "      <td>8.7823</td>\n",
              "      <td>9.3425</td>\n",
              "      <td>181.3</td>\n",
              "      <td>0.9677</td>\n",
              "      <td>29.91</td>\n",
              "      <td>29.75</td>\n",
              "    </tr>\n",
              "  </tbody>\n",
              "</table>\n",
              "<p>5217 rows × 23 columns</p>\n",
              "</div>"
            ],
            "text/plain": [
              "            DATE AUSTRALIA EURO AREA  ... SWITZERLAND TAIWAN THAILAND\n",
              "0     2000-01-03    1.5172    0.9847  ...      1.5808  31.38    36.97\n",
              "1     2000-01-04    1.5239      0.97  ...      1.5565   30.6    37.13\n",
              "2     2000-01-05    1.5267    0.9676  ...      1.5526   30.8     37.1\n",
              "3     2000-01-06    1.5291    0.9686  ...       1.554  31.75    37.62\n",
              "4     2000-01-07    1.5272    0.9714  ...      1.5623  30.85     37.3\n",
              "...          ...       ...       ...  ...         ...    ...      ...\n",
              "5212  2019-12-25        ND        ND  ...          ND     ND       ND\n",
              "5213  2019-12-26    1.4411    0.9007  ...      0.9808  30.11    30.15\n",
              "5214  2019-12-27    1.4331    0.8949  ...      0.9741  30.09    30.14\n",
              "5215  2019-12-30    1.4278    0.8915  ...      0.9677  30.04    29.94\n",
              "5216  2019-12-31    1.4225    0.8907  ...      0.9677  29.91    29.75\n",
              "\n",
              "[5217 rows x 23 columns]"
            ]
          },
          "metadata": {
            "tags": []
          },
          "execution_count": 99
        }
      ]
    },
    {
      "cell_type": "code",
      "metadata": {
        "id": "x-02J4yi-C7e",
        "colab_type": "code",
        "outputId": "4396a1d1-b064-45fb-f9dc-aedce8f05654",
        "colab": {
          "base_uri": "https://localhost:8080/",
          "height": 425
        }
      },
      "source": [
        "df.isnull().sum()"
      ],
      "execution_count": 100,
      "outputs": [
        {
          "output_type": "execute_result",
          "data": {
            "text/plain": [
              "DATE              0\n",
              "AUSTRALIA         0\n",
              "EURO AREA         0\n",
              "NEW ZEALAND       0\n",
              "UNITED KINGDOM    0\n",
              "BRAZIL            0\n",
              "CANADA            0\n",
              "CHINA             0\n",
              "HONG KONG         0\n",
              "INDIA             0\n",
              "KOREA             0\n",
              "MEXICO            0\n",
              "SOUTH AFRICA      0\n",
              "SINGAPORE         0\n",
              "DENMARK           0\n",
              "JAPAN             0\n",
              "MALAYSIA          0\n",
              "NORWAY            0\n",
              "SWEDEN            0\n",
              "SRI LANKA         0\n",
              "SWITZERLAND       0\n",
              "TAIWAN            0\n",
              "THAILAND          0\n",
              "dtype: int64"
            ]
          },
          "metadata": {
            "tags": []
          },
          "execution_count": 100
        }
      ]
    },
    {
      "cell_type": "markdown",
      "metadata": {
        "id": "86X-cAIkZyUo",
        "colab_type": "text"
      },
      "source": [
        "Well, looks much better now. As we see that three are some missing values which represented as 'ND' in the dataframe so either we can drop them or fill them with appropriate values. But if check now dataframe will show no null values as the datatype is object and ND will ne counted as a valid values."
      ]
    },
    {
      "cell_type": "code",
      "metadata": {
        "id": "mSiZFn7pafV-",
        "colab_type": "code",
        "outputId": "5bde6ead-4cfa-46bb-e01a-df1f8cc8c0e8",
        "colab": {
          "base_uri": "https://localhost:8080/",
          "height": 527
        }
      },
      "source": [
        "df.info()"
      ],
      "execution_count": 101,
      "outputs": [
        {
          "output_type": "stream",
          "text": [
            "<class 'pandas.core.frame.DataFrame'>\n",
            "RangeIndex: 5217 entries, 0 to 5216\n",
            "Data columns (total 23 columns):\n",
            " #   Column          Non-Null Count  Dtype \n",
            "---  ------          --------------  ----- \n",
            " 0   DATE            5217 non-null   object\n",
            " 1   AUSTRALIA       5217 non-null   object\n",
            " 2   EURO AREA       5217 non-null   object\n",
            " 3   NEW ZEALAND     5217 non-null   object\n",
            " 4   UNITED KINGDOM  5217 non-null   object\n",
            " 5   BRAZIL          5217 non-null   object\n",
            " 6   CANADA          5217 non-null   object\n",
            " 7   CHINA           5217 non-null   object\n",
            " 8   HONG KONG       5217 non-null   object\n",
            " 9   INDIA           5217 non-null   object\n",
            " 10  KOREA           5217 non-null   object\n",
            " 11  MEXICO          5217 non-null   object\n",
            " 12  SOUTH AFRICA    5217 non-null   object\n",
            " 13  SINGAPORE       5217 non-null   object\n",
            " 14  DENMARK         5217 non-null   object\n",
            " 15  JAPAN           5217 non-null   object\n",
            " 16  MALAYSIA        5217 non-null   object\n",
            " 17  NORWAY          5217 non-null   object\n",
            " 18  SWEDEN          5217 non-null   object\n",
            " 19  SRI LANKA       5217 non-null   object\n",
            " 20  SWITZERLAND     5217 non-null   object\n",
            " 21  TAIWAN          5217 non-null   object\n",
            " 22  THAILAND        5217 non-null   object\n",
            "dtypes: object(23)\n",
            "memory usage: 937.6+ KB\n"
          ],
          "name": "stdout"
        }
      ]
    },
    {
      "cell_type": "code",
      "metadata": {
        "id": "XSCpvdvDhHbv",
        "colab_type": "code",
        "outputId": "94fe3389-a8bb-44a9-e8ce-d42912fa18ab",
        "colab": {
          "base_uri": "https://localhost:8080/",
          "height": 626
        }
      },
      "source": [
        "#converting ND into null values\n",
        "df = df.replace(\"ND\", np.nan)\n",
        "df"
      ],
      "execution_count": 102,
      "outputs": [
        {
          "output_type": "execute_result",
          "data": {
            "text/html": [
              "<div>\n",
              "<style scoped>\n",
              "    .dataframe tbody tr th:only-of-type {\n",
              "        vertical-align: middle;\n",
              "    }\n",
              "\n",
              "    .dataframe tbody tr th {\n",
              "        vertical-align: top;\n",
              "    }\n",
              "\n",
              "    .dataframe thead th {\n",
              "        text-align: right;\n",
              "    }\n",
              "</style>\n",
              "<table border=\"1\" class=\"dataframe\">\n",
              "  <thead>\n",
              "    <tr style=\"text-align: right;\">\n",
              "      <th></th>\n",
              "      <th>DATE</th>\n",
              "      <th>AUSTRALIA</th>\n",
              "      <th>EURO AREA</th>\n",
              "      <th>NEW ZEALAND</th>\n",
              "      <th>UNITED KINGDOM</th>\n",
              "      <th>BRAZIL</th>\n",
              "      <th>CANADA</th>\n",
              "      <th>CHINA</th>\n",
              "      <th>HONG KONG</th>\n",
              "      <th>INDIA</th>\n",
              "      <th>KOREA</th>\n",
              "      <th>MEXICO</th>\n",
              "      <th>SOUTH AFRICA</th>\n",
              "      <th>SINGAPORE</th>\n",
              "      <th>DENMARK</th>\n",
              "      <th>JAPAN</th>\n",
              "      <th>MALAYSIA</th>\n",
              "      <th>NORWAY</th>\n",
              "      <th>SWEDEN</th>\n",
              "      <th>SRI LANKA</th>\n",
              "      <th>SWITZERLAND</th>\n",
              "      <th>TAIWAN</th>\n",
              "      <th>THAILAND</th>\n",
              "    </tr>\n",
              "  </thead>\n",
              "  <tbody>\n",
              "    <tr>\n",
              "      <th>0</th>\n",
              "      <td>2000-01-03</td>\n",
              "      <td>1.5172</td>\n",
              "      <td>0.9847</td>\n",
              "      <td>1.9033</td>\n",
              "      <td>0.6146</td>\n",
              "      <td>1.805</td>\n",
              "      <td>1.4465</td>\n",
              "      <td>8.2798</td>\n",
              "      <td>7.7765</td>\n",
              "      <td>43.55</td>\n",
              "      <td>1128</td>\n",
              "      <td>9.4015</td>\n",
              "      <td>6.126</td>\n",
              "      <td>1.6563</td>\n",
              "      <td>7.329</td>\n",
              "      <td>101.7</td>\n",
              "      <td>3.8</td>\n",
              "      <td>7.964</td>\n",
              "      <td>8.443</td>\n",
              "      <td>72.3</td>\n",
              "      <td>1.5808</td>\n",
              "      <td>31.38</td>\n",
              "      <td>36.97</td>\n",
              "    </tr>\n",
              "    <tr>\n",
              "      <th>1</th>\n",
              "      <td>2000-01-04</td>\n",
              "      <td>1.5239</td>\n",
              "      <td>0.97</td>\n",
              "      <td>1.9238</td>\n",
              "      <td>0.6109</td>\n",
              "      <td>1.8405</td>\n",
              "      <td>1.4518</td>\n",
              "      <td>8.2799</td>\n",
              "      <td>7.7775</td>\n",
              "      <td>43.55</td>\n",
              "      <td>1122.5</td>\n",
              "      <td>9.457</td>\n",
              "      <td>6.085</td>\n",
              "      <td>1.6535</td>\n",
              "      <td>7.218</td>\n",
              "      <td>103.09</td>\n",
              "      <td>3.8</td>\n",
              "      <td>7.934</td>\n",
              "      <td>8.36</td>\n",
              "      <td>72.65</td>\n",
              "      <td>1.5565</td>\n",
              "      <td>30.6</td>\n",
              "      <td>37.13</td>\n",
              "    </tr>\n",
              "    <tr>\n",
              "      <th>2</th>\n",
              "      <td>2000-01-05</td>\n",
              "      <td>1.5267</td>\n",
              "      <td>0.9676</td>\n",
              "      <td>1.9339</td>\n",
              "      <td>0.6092</td>\n",
              "      <td>1.856</td>\n",
              "      <td>1.4518</td>\n",
              "      <td>8.2798</td>\n",
              "      <td>7.778</td>\n",
              "      <td>43.55</td>\n",
              "      <td>1135</td>\n",
              "      <td>9.535</td>\n",
              "      <td>6.07</td>\n",
              "      <td>1.656</td>\n",
              "      <td>7.208</td>\n",
              "      <td>103.77</td>\n",
              "      <td>3.8</td>\n",
              "      <td>7.935</td>\n",
              "      <td>8.353</td>\n",
              "      <td>72.95</td>\n",
              "      <td>1.5526</td>\n",
              "      <td>30.8</td>\n",
              "      <td>37.1</td>\n",
              "    </tr>\n",
              "    <tr>\n",
              "      <th>3</th>\n",
              "      <td>2000-01-06</td>\n",
              "      <td>1.5291</td>\n",
              "      <td>0.9686</td>\n",
              "      <td>1.9436</td>\n",
              "      <td>0.607</td>\n",
              "      <td>1.84</td>\n",
              "      <td>1.4571</td>\n",
              "      <td>8.2797</td>\n",
              "      <td>7.7785</td>\n",
              "      <td>43.55</td>\n",
              "      <td>1146.5</td>\n",
              "      <td>9.567</td>\n",
              "      <td>6.08</td>\n",
              "      <td>1.6655</td>\n",
              "      <td>7.2125</td>\n",
              "      <td>105.19</td>\n",
              "      <td>3.8</td>\n",
              "      <td>7.94</td>\n",
              "      <td>8.3675</td>\n",
              "      <td>72.95</td>\n",
              "      <td>1.554</td>\n",
              "      <td>31.75</td>\n",
              "      <td>37.62</td>\n",
              "    </tr>\n",
              "    <tr>\n",
              "      <th>4</th>\n",
              "      <td>2000-01-07</td>\n",
              "      <td>1.5272</td>\n",
              "      <td>0.9714</td>\n",
              "      <td>1.938</td>\n",
              "      <td>0.6104</td>\n",
              "      <td>1.831</td>\n",
              "      <td>1.4505</td>\n",
              "      <td>8.2794</td>\n",
              "      <td>7.7783</td>\n",
              "      <td>43.55</td>\n",
              "      <td>1138</td>\n",
              "      <td>9.52</td>\n",
              "      <td>6.057</td>\n",
              "      <td>1.6625</td>\n",
              "      <td>7.2285</td>\n",
              "      <td>105.17</td>\n",
              "      <td>3.8</td>\n",
              "      <td>7.966</td>\n",
              "      <td>8.415</td>\n",
              "      <td>73.15</td>\n",
              "      <td>1.5623</td>\n",
              "      <td>30.85</td>\n",
              "      <td>37.3</td>\n",
              "    </tr>\n",
              "    <tr>\n",
              "      <th>...</th>\n",
              "      <td>...</td>\n",
              "      <td>...</td>\n",
              "      <td>...</td>\n",
              "      <td>...</td>\n",
              "      <td>...</td>\n",
              "      <td>...</td>\n",
              "      <td>...</td>\n",
              "      <td>...</td>\n",
              "      <td>...</td>\n",
              "      <td>...</td>\n",
              "      <td>...</td>\n",
              "      <td>...</td>\n",
              "      <td>...</td>\n",
              "      <td>...</td>\n",
              "      <td>...</td>\n",
              "      <td>...</td>\n",
              "      <td>...</td>\n",
              "      <td>...</td>\n",
              "      <td>...</td>\n",
              "      <td>...</td>\n",
              "      <td>...</td>\n",
              "      <td>...</td>\n",
              "      <td>...</td>\n",
              "    </tr>\n",
              "    <tr>\n",
              "      <th>5212</th>\n",
              "      <td>2019-12-25</td>\n",
              "      <td>NaN</td>\n",
              "      <td>NaN</td>\n",
              "      <td>NaN</td>\n",
              "      <td>NaN</td>\n",
              "      <td>NaN</td>\n",
              "      <td>NaN</td>\n",
              "      <td>NaN</td>\n",
              "      <td>NaN</td>\n",
              "      <td>NaN</td>\n",
              "      <td>NaN</td>\n",
              "      <td>NaN</td>\n",
              "      <td>NaN</td>\n",
              "      <td>NaN</td>\n",
              "      <td>NaN</td>\n",
              "      <td>NaN</td>\n",
              "      <td>NaN</td>\n",
              "      <td>NaN</td>\n",
              "      <td>NaN</td>\n",
              "      <td>NaN</td>\n",
              "      <td>NaN</td>\n",
              "      <td>NaN</td>\n",
              "      <td>NaN</td>\n",
              "    </tr>\n",
              "    <tr>\n",
              "      <th>5213</th>\n",
              "      <td>2019-12-26</td>\n",
              "      <td>1.4411</td>\n",
              "      <td>0.9007</td>\n",
              "      <td>1.5002</td>\n",
              "      <td>0.7688</td>\n",
              "      <td>4.0602</td>\n",
              "      <td>1.3124</td>\n",
              "      <td>6.9949</td>\n",
              "      <td>7.788</td>\n",
              "      <td>71.28</td>\n",
              "      <td>1161.18</td>\n",
              "      <td>18.944</td>\n",
              "      <td>14.132</td>\n",
              "      <td>1.354</td>\n",
              "      <td>6.7295</td>\n",
              "      <td>109.67</td>\n",
              "      <td>4.1337</td>\n",
              "      <td>8.8799</td>\n",
              "      <td>9.4108</td>\n",
              "      <td>181.3</td>\n",
              "      <td>0.9808</td>\n",
              "      <td>30.11</td>\n",
              "      <td>30.15</td>\n",
              "    </tr>\n",
              "    <tr>\n",
              "      <th>5214</th>\n",
              "      <td>2019-12-27</td>\n",
              "      <td>1.4331</td>\n",
              "      <td>0.8949</td>\n",
              "      <td>1.4919</td>\n",
              "      <td>0.7639</td>\n",
              "      <td>4.0507</td>\n",
              "      <td>1.3073</td>\n",
              "      <td>6.9954</td>\n",
              "      <td>7.7874</td>\n",
              "      <td>71.45</td>\n",
              "      <td>1160.87</td>\n",
              "      <td>18.819</td>\n",
              "      <td>14.025</td>\n",
              "      <td>1.352</td>\n",
              "      <td>6.6829</td>\n",
              "      <td>109.47</td>\n",
              "      <td>4.126</td>\n",
              "      <td>8.8291</td>\n",
              "      <td>9.3405</td>\n",
              "      <td>181.35</td>\n",
              "      <td>0.9741</td>\n",
              "      <td>30.09</td>\n",
              "      <td>30.14</td>\n",
              "    </tr>\n",
              "    <tr>\n",
              "      <th>5215</th>\n",
              "      <td>2019-12-30</td>\n",
              "      <td>1.4278</td>\n",
              "      <td>0.8915</td>\n",
              "      <td>1.4846</td>\n",
              "      <td>0.761</td>\n",
              "      <td>4.0152</td>\n",
              "      <td>1.3058</td>\n",
              "      <td>6.9864</td>\n",
              "      <td>7.7857</td>\n",
              "      <td>71.3</td>\n",
              "      <td>1155.75</td>\n",
              "      <td>18.863</td>\n",
              "      <td>14.056</td>\n",
              "      <td>1.3483</td>\n",
              "      <td>6.6589</td>\n",
              "      <td>108.85</td>\n",
              "      <td>4.1053</td>\n",
              "      <td>8.7839</td>\n",
              "      <td>9.3145</td>\n",
              "      <td>181.6</td>\n",
              "      <td>0.9677</td>\n",
              "      <td>30.04</td>\n",
              "      <td>29.94</td>\n",
              "    </tr>\n",
              "    <tr>\n",
              "      <th>5216</th>\n",
              "      <td>2019-12-31</td>\n",
              "      <td>1.4225</td>\n",
              "      <td>0.8907</td>\n",
              "      <td>1.4826</td>\n",
              "      <td>0.7536</td>\n",
              "      <td>4.019</td>\n",
              "      <td>1.2962</td>\n",
              "      <td>6.9618</td>\n",
              "      <td>7.7894</td>\n",
              "      <td>71.36</td>\n",
              "      <td>1155.46</td>\n",
              "      <td>18.86</td>\n",
              "      <td>13.973</td>\n",
              "      <td>1.3446</td>\n",
              "      <td>6.6554</td>\n",
              "      <td>108.67</td>\n",
              "      <td>4.0918</td>\n",
              "      <td>8.7823</td>\n",
              "      <td>9.3425</td>\n",
              "      <td>181.3</td>\n",
              "      <td>0.9677</td>\n",
              "      <td>29.91</td>\n",
              "      <td>29.75</td>\n",
              "    </tr>\n",
              "  </tbody>\n",
              "</table>\n",
              "<p>5217 rows × 23 columns</p>\n",
              "</div>"
            ],
            "text/plain": [
              "            DATE AUSTRALIA EURO AREA  ... SWITZERLAND TAIWAN THAILAND\n",
              "0     2000-01-03    1.5172    0.9847  ...      1.5808  31.38    36.97\n",
              "1     2000-01-04    1.5239      0.97  ...      1.5565   30.6    37.13\n",
              "2     2000-01-05    1.5267    0.9676  ...      1.5526   30.8     37.1\n",
              "3     2000-01-06    1.5291    0.9686  ...       1.554  31.75    37.62\n",
              "4     2000-01-07    1.5272    0.9714  ...      1.5623  30.85     37.3\n",
              "...          ...       ...       ...  ...         ...    ...      ...\n",
              "5212  2019-12-25       NaN       NaN  ...         NaN    NaN      NaN\n",
              "5213  2019-12-26    1.4411    0.9007  ...      0.9808  30.11    30.15\n",
              "5214  2019-12-27    1.4331    0.8949  ...      0.9741  30.09    30.14\n",
              "5215  2019-12-30    1.4278    0.8915  ...      0.9677  30.04    29.94\n",
              "5216  2019-12-31    1.4225    0.8907  ...      0.9677  29.91    29.75\n",
              "\n",
              "[5217 rows x 23 columns]"
            ]
          },
          "metadata": {
            "tags": []
          },
          "execution_count": 102
        }
      ]
    },
    {
      "cell_type": "code",
      "metadata": {
        "id": "b2yTT3gF-RVV",
        "colab_type": "code",
        "outputId": "9d86cd01-b18b-4c25-baed-b8c5d32afaae",
        "colab": {
          "base_uri": "https://localhost:8080/",
          "height": 425
        }
      },
      "source": [
        "df.isnull().sum()"
      ],
      "execution_count": 103,
      "outputs": [
        {
          "output_type": "execute_result",
          "data": {
            "text/plain": [
              "DATE                0\n",
              "AUSTRALIA         198\n",
              "EURO AREA         198\n",
              "NEW ZEALAND       198\n",
              "UNITED KINGDOM    198\n",
              "BRAZIL            198\n",
              "CANADA            198\n",
              "CHINA             197\n",
              "HONG KONG         198\n",
              "INDIA             199\n",
              "KOREA             198\n",
              "MEXICO            198\n",
              "SOUTH AFRICA      198\n",
              "SINGAPORE         198\n",
              "DENMARK           198\n",
              "JAPAN             198\n",
              "MALAYSIA          198\n",
              "NORWAY            198\n",
              "SWEDEN            198\n",
              "SRI LANKA         198\n",
              "SWITZERLAND       198\n",
              "TAIWAN            201\n",
              "THAILAND          198\n",
              "dtype: int64"
            ]
          },
          "metadata": {
            "tags": []
          },
          "execution_count": 103
        }
      ]
    },
    {
      "cell_type": "markdown",
      "metadata": {
        "id": "Qh5FRXKQajyj",
        "colab_type": "text"
      },
      "source": [
        "So, we see the dataframe every variable is a object type.  Converting them to there appropriate datatype will be better which would be float values and datetime."
      ]
    },
    {
      "cell_type": "code",
      "metadata": {
        "id": "yRgEEBhsSYiT",
        "colab_type": "code",
        "colab": {}
      },
      "source": [
        "df = df.set_index(\"DATE\")\n",
        "df.index = pd.to_datetime(df.index)\n",
        "df = df.astype(float)"
      ],
      "execution_count": 0,
      "outputs": []
    },
    {
      "cell_type": "code",
      "metadata": {
        "id": "j_yukdtrSFBF",
        "colab_type": "code",
        "outputId": "4f9b7de7-7724-44da-cc27-25533f99d128",
        "colab": {
          "base_uri": "https://localhost:8080/",
          "height": 510
        }
      },
      "source": [
        "df.info()"
      ],
      "execution_count": 105,
      "outputs": [
        {
          "output_type": "stream",
          "text": [
            "<class 'pandas.core.frame.DataFrame'>\n",
            "DatetimeIndex: 5217 entries, 2000-01-03 to 2019-12-31\n",
            "Data columns (total 22 columns):\n",
            " #   Column          Non-Null Count  Dtype  \n",
            "---  ------          --------------  -----  \n",
            " 0   AUSTRALIA       5019 non-null   float64\n",
            " 1   EURO AREA       5019 non-null   float64\n",
            " 2   NEW ZEALAND     5019 non-null   float64\n",
            " 3   UNITED KINGDOM  5019 non-null   float64\n",
            " 4   BRAZIL          5019 non-null   float64\n",
            " 5   CANADA          5019 non-null   float64\n",
            " 6   CHINA           5020 non-null   float64\n",
            " 7   HONG KONG       5019 non-null   float64\n",
            " 8   INDIA           5018 non-null   float64\n",
            " 9   KOREA           5019 non-null   float64\n",
            " 10  MEXICO          5019 non-null   float64\n",
            " 11  SOUTH AFRICA    5019 non-null   float64\n",
            " 12  SINGAPORE       5019 non-null   float64\n",
            " 13  DENMARK         5019 non-null   float64\n",
            " 14  JAPAN           5019 non-null   float64\n",
            " 15  MALAYSIA        5019 non-null   float64\n",
            " 16  NORWAY          5019 non-null   float64\n",
            " 17  SWEDEN          5019 non-null   float64\n",
            " 18  SRI LANKA       5019 non-null   float64\n",
            " 19  SWITZERLAND     5019 non-null   float64\n",
            " 20  TAIWAN          5016 non-null   float64\n",
            " 21  THAILAND        5019 non-null   float64\n",
            "dtypes: float64(22)\n",
            "memory usage: 937.4 KB\n"
          ],
          "name": "stdout"
        }
      ]
    },
    {
      "cell_type": "markdown",
      "metadata": {
        "id": "PBHYT_jZfeUk",
        "colab_type": "text"
      },
      "source": [
        "So, let's deal with the missing values. We replaced the missing values with interpolated values."
      ]
    },
    {
      "cell_type": "code",
      "metadata": {
        "id": "WbCe9ipdE6zl",
        "colab_type": "code",
        "outputId": "38bd28bd-8a74-4c93-fe76-f1ac585219d8",
        "colab": {
          "base_uri": "https://localhost:8080/",
          "height": 657
        }
      },
      "source": [
        "#df = df.replace(\"ND\", np.nan)\n",
        "df = df.interpolate(method = 'linear', limit_direction ='forward') \n",
        "df"
      ],
      "execution_count": 118,
      "outputs": [
        {
          "output_type": "execute_result",
          "data": {
            "text/html": [
              "<div>\n",
              "<style scoped>\n",
              "    .dataframe tbody tr th:only-of-type {\n",
              "        vertical-align: middle;\n",
              "    }\n",
              "\n",
              "    .dataframe tbody tr th {\n",
              "        vertical-align: top;\n",
              "    }\n",
              "\n",
              "    .dataframe thead th {\n",
              "        text-align: right;\n",
              "    }\n",
              "</style>\n",
              "<table border=\"1\" class=\"dataframe\">\n",
              "  <thead>\n",
              "    <tr style=\"text-align: right;\">\n",
              "      <th></th>\n",
              "      <th>AUSTRALIA</th>\n",
              "      <th>EURO AREA</th>\n",
              "      <th>NEW ZEALAND</th>\n",
              "      <th>UNITED KINGDOM</th>\n",
              "      <th>BRAZIL</th>\n",
              "      <th>CANADA</th>\n",
              "      <th>CHINA</th>\n",
              "      <th>HONG KONG</th>\n",
              "      <th>INDIA</th>\n",
              "      <th>KOREA</th>\n",
              "      <th>MEXICO</th>\n",
              "      <th>SOUTH AFRICA</th>\n",
              "      <th>SINGAPORE</th>\n",
              "      <th>DENMARK</th>\n",
              "      <th>JAPAN</th>\n",
              "      <th>MALAYSIA</th>\n",
              "      <th>NORWAY</th>\n",
              "      <th>SWEDEN</th>\n",
              "      <th>SRI LANKA</th>\n",
              "      <th>SWITZERLAND</th>\n",
              "      <th>TAIWAN</th>\n",
              "      <th>THAILAND</th>\n",
              "    </tr>\n",
              "    <tr>\n",
              "      <th>DATE</th>\n",
              "      <th></th>\n",
              "      <th></th>\n",
              "      <th></th>\n",
              "      <th></th>\n",
              "      <th></th>\n",
              "      <th></th>\n",
              "      <th></th>\n",
              "      <th></th>\n",
              "      <th></th>\n",
              "      <th></th>\n",
              "      <th></th>\n",
              "      <th></th>\n",
              "      <th></th>\n",
              "      <th></th>\n",
              "      <th></th>\n",
              "      <th></th>\n",
              "      <th></th>\n",
              "      <th></th>\n",
              "      <th></th>\n",
              "      <th></th>\n",
              "      <th></th>\n",
              "      <th></th>\n",
              "    </tr>\n",
              "  </thead>\n",
              "  <tbody>\n",
              "    <tr>\n",
              "      <th>2000-01-03</th>\n",
              "      <td>1.5172</td>\n",
              "      <td>0.98470</td>\n",
              "      <td>1.9033</td>\n",
              "      <td>0.61460</td>\n",
              "      <td>1.80500</td>\n",
              "      <td>1.4465</td>\n",
              "      <td>8.27980</td>\n",
              "      <td>7.7765</td>\n",
              "      <td>43.550</td>\n",
              "      <td>1128.000</td>\n",
              "      <td>9.4015</td>\n",
              "      <td>6.1260</td>\n",
              "      <td>1.6563</td>\n",
              "      <td>7.3290</td>\n",
              "      <td>101.700</td>\n",
              "      <td>3.80000</td>\n",
              "      <td>7.96400</td>\n",
              "      <td>8.44300</td>\n",
              "      <td>72.30</td>\n",
              "      <td>1.58080</td>\n",
              "      <td>31.380</td>\n",
              "      <td>36.97</td>\n",
              "    </tr>\n",
              "    <tr>\n",
              "      <th>2000-01-04</th>\n",
              "      <td>1.5239</td>\n",
              "      <td>0.97000</td>\n",
              "      <td>1.9238</td>\n",
              "      <td>0.61090</td>\n",
              "      <td>1.84050</td>\n",
              "      <td>1.4518</td>\n",
              "      <td>8.27990</td>\n",
              "      <td>7.7775</td>\n",
              "      <td>43.550</td>\n",
              "      <td>1122.500</td>\n",
              "      <td>9.4570</td>\n",
              "      <td>6.0850</td>\n",
              "      <td>1.6535</td>\n",
              "      <td>7.2180</td>\n",
              "      <td>103.090</td>\n",
              "      <td>3.80000</td>\n",
              "      <td>7.93400</td>\n",
              "      <td>8.36000</td>\n",
              "      <td>72.65</td>\n",
              "      <td>1.55650</td>\n",
              "      <td>30.600</td>\n",
              "      <td>37.13</td>\n",
              "    </tr>\n",
              "    <tr>\n",
              "      <th>2000-01-05</th>\n",
              "      <td>1.5267</td>\n",
              "      <td>0.96760</td>\n",
              "      <td>1.9339</td>\n",
              "      <td>0.60920</td>\n",
              "      <td>1.85600</td>\n",
              "      <td>1.4518</td>\n",
              "      <td>8.27980</td>\n",
              "      <td>7.7780</td>\n",
              "      <td>43.550</td>\n",
              "      <td>1135.000</td>\n",
              "      <td>9.5350</td>\n",
              "      <td>6.0700</td>\n",
              "      <td>1.6560</td>\n",
              "      <td>7.2080</td>\n",
              "      <td>103.770</td>\n",
              "      <td>3.80000</td>\n",
              "      <td>7.93500</td>\n",
              "      <td>8.35300</td>\n",
              "      <td>72.95</td>\n",
              "      <td>1.55260</td>\n",
              "      <td>30.800</td>\n",
              "      <td>37.10</td>\n",
              "    </tr>\n",
              "    <tr>\n",
              "      <th>2000-01-06</th>\n",
              "      <td>1.5291</td>\n",
              "      <td>0.96860</td>\n",
              "      <td>1.9436</td>\n",
              "      <td>0.60700</td>\n",
              "      <td>1.84000</td>\n",
              "      <td>1.4571</td>\n",
              "      <td>8.27970</td>\n",
              "      <td>7.7785</td>\n",
              "      <td>43.550</td>\n",
              "      <td>1146.500</td>\n",
              "      <td>9.5670</td>\n",
              "      <td>6.0800</td>\n",
              "      <td>1.6655</td>\n",
              "      <td>7.2125</td>\n",
              "      <td>105.190</td>\n",
              "      <td>3.80000</td>\n",
              "      <td>7.94000</td>\n",
              "      <td>8.36750</td>\n",
              "      <td>72.95</td>\n",
              "      <td>1.55400</td>\n",
              "      <td>31.750</td>\n",
              "      <td>37.62</td>\n",
              "    </tr>\n",
              "    <tr>\n",
              "      <th>2000-01-07</th>\n",
              "      <td>1.5272</td>\n",
              "      <td>0.97140</td>\n",
              "      <td>1.9380</td>\n",
              "      <td>0.61040</td>\n",
              "      <td>1.83100</td>\n",
              "      <td>1.4505</td>\n",
              "      <td>8.27940</td>\n",
              "      <td>7.7783</td>\n",
              "      <td>43.550</td>\n",
              "      <td>1138.000</td>\n",
              "      <td>9.5200</td>\n",
              "      <td>6.0570</td>\n",
              "      <td>1.6625</td>\n",
              "      <td>7.2285</td>\n",
              "      <td>105.170</td>\n",
              "      <td>3.80000</td>\n",
              "      <td>7.96600</td>\n",
              "      <td>8.41500</td>\n",
              "      <td>73.15</td>\n",
              "      <td>1.56230</td>\n",
              "      <td>30.850</td>\n",
              "      <td>37.30</td>\n",
              "    </tr>\n",
              "    <tr>\n",
              "      <th>...</th>\n",
              "      <td>...</td>\n",
              "      <td>...</td>\n",
              "      <td>...</td>\n",
              "      <td>...</td>\n",
              "      <td>...</td>\n",
              "      <td>...</td>\n",
              "      <td>...</td>\n",
              "      <td>...</td>\n",
              "      <td>...</td>\n",
              "      <td>...</td>\n",
              "      <td>...</td>\n",
              "      <td>...</td>\n",
              "      <td>...</td>\n",
              "      <td>...</td>\n",
              "      <td>...</td>\n",
              "      <td>...</td>\n",
              "      <td>...</td>\n",
              "      <td>...</td>\n",
              "      <td>...</td>\n",
              "      <td>...</td>\n",
              "      <td>...</td>\n",
              "      <td>...</td>\n",
              "    </tr>\n",
              "    <tr>\n",
              "      <th>2019-12-25</th>\n",
              "      <td>1.4428</td>\n",
              "      <td>0.90145</td>\n",
              "      <td>1.5030</td>\n",
              "      <td>0.77035</td>\n",
              "      <td>4.07175</td>\n",
              "      <td>1.3142</td>\n",
              "      <td>7.00065</td>\n",
              "      <td>7.7876</td>\n",
              "      <td>71.255</td>\n",
              "      <td>1162.195</td>\n",
              "      <td>18.9495</td>\n",
              "      <td>14.1375</td>\n",
              "      <td>1.3545</td>\n",
              "      <td>6.7347</td>\n",
              "      <td>109.525</td>\n",
              "      <td>4.13435</td>\n",
              "      <td>8.89705</td>\n",
              "      <td>9.41205</td>\n",
              "      <td>181.30</td>\n",
              "      <td>0.98075</td>\n",
              "      <td>30.125</td>\n",
              "      <td>30.15</td>\n",
              "    </tr>\n",
              "    <tr>\n",
              "      <th>2019-12-26</th>\n",
              "      <td>1.4411</td>\n",
              "      <td>0.90070</td>\n",
              "      <td>1.5002</td>\n",
              "      <td>0.76880</td>\n",
              "      <td>4.06020</td>\n",
              "      <td>1.3124</td>\n",
              "      <td>6.99490</td>\n",
              "      <td>7.7880</td>\n",
              "      <td>71.280</td>\n",
              "      <td>1161.180</td>\n",
              "      <td>18.9440</td>\n",
              "      <td>14.1320</td>\n",
              "      <td>1.3540</td>\n",
              "      <td>6.7295</td>\n",
              "      <td>109.670</td>\n",
              "      <td>4.13370</td>\n",
              "      <td>8.87990</td>\n",
              "      <td>9.41080</td>\n",
              "      <td>181.30</td>\n",
              "      <td>0.98080</td>\n",
              "      <td>30.110</td>\n",
              "      <td>30.15</td>\n",
              "    </tr>\n",
              "    <tr>\n",
              "      <th>2019-12-27</th>\n",
              "      <td>1.4331</td>\n",
              "      <td>0.89490</td>\n",
              "      <td>1.4919</td>\n",
              "      <td>0.76390</td>\n",
              "      <td>4.05070</td>\n",
              "      <td>1.3073</td>\n",
              "      <td>6.99540</td>\n",
              "      <td>7.7874</td>\n",
              "      <td>71.450</td>\n",
              "      <td>1160.870</td>\n",
              "      <td>18.8190</td>\n",
              "      <td>14.0250</td>\n",
              "      <td>1.3520</td>\n",
              "      <td>6.6829</td>\n",
              "      <td>109.470</td>\n",
              "      <td>4.12600</td>\n",
              "      <td>8.82910</td>\n",
              "      <td>9.34050</td>\n",
              "      <td>181.35</td>\n",
              "      <td>0.97410</td>\n",
              "      <td>30.090</td>\n",
              "      <td>30.14</td>\n",
              "    </tr>\n",
              "    <tr>\n",
              "      <th>2019-12-30</th>\n",
              "      <td>1.4278</td>\n",
              "      <td>0.89150</td>\n",
              "      <td>1.4846</td>\n",
              "      <td>0.76100</td>\n",
              "      <td>4.01520</td>\n",
              "      <td>1.3058</td>\n",
              "      <td>6.98640</td>\n",
              "      <td>7.7857</td>\n",
              "      <td>71.300</td>\n",
              "      <td>1155.750</td>\n",
              "      <td>18.8630</td>\n",
              "      <td>14.0560</td>\n",
              "      <td>1.3483</td>\n",
              "      <td>6.6589</td>\n",
              "      <td>108.850</td>\n",
              "      <td>4.10530</td>\n",
              "      <td>8.78390</td>\n",
              "      <td>9.31450</td>\n",
              "      <td>181.60</td>\n",
              "      <td>0.96770</td>\n",
              "      <td>30.040</td>\n",
              "      <td>29.94</td>\n",
              "    </tr>\n",
              "    <tr>\n",
              "      <th>2019-12-31</th>\n",
              "      <td>1.4225</td>\n",
              "      <td>0.89070</td>\n",
              "      <td>1.4826</td>\n",
              "      <td>0.75360</td>\n",
              "      <td>4.01900</td>\n",
              "      <td>1.2962</td>\n",
              "      <td>6.96180</td>\n",
              "      <td>7.7894</td>\n",
              "      <td>71.360</td>\n",
              "      <td>1155.460</td>\n",
              "      <td>18.8600</td>\n",
              "      <td>13.9730</td>\n",
              "      <td>1.3446</td>\n",
              "      <td>6.6554</td>\n",
              "      <td>108.670</td>\n",
              "      <td>4.09180</td>\n",
              "      <td>8.78230</td>\n",
              "      <td>9.34250</td>\n",
              "      <td>181.30</td>\n",
              "      <td>0.96770</td>\n",
              "      <td>29.910</td>\n",
              "      <td>29.75</td>\n",
              "    </tr>\n",
              "  </tbody>\n",
              "</table>\n",
              "<p>5217 rows × 22 columns</p>\n",
              "</div>"
            ],
            "text/plain": [
              "            AUSTRALIA  EURO AREA  NEW ZEALAND  ...  SWITZERLAND  TAIWAN  THAILAND\n",
              "DATE                                           ...                               \n",
              "2000-01-03     1.5172    0.98470       1.9033  ...      1.58080  31.380     36.97\n",
              "2000-01-04     1.5239    0.97000       1.9238  ...      1.55650  30.600     37.13\n",
              "2000-01-05     1.5267    0.96760       1.9339  ...      1.55260  30.800     37.10\n",
              "2000-01-06     1.5291    0.96860       1.9436  ...      1.55400  31.750     37.62\n",
              "2000-01-07     1.5272    0.97140       1.9380  ...      1.56230  30.850     37.30\n",
              "...               ...        ...          ...  ...          ...     ...       ...\n",
              "2019-12-25     1.4428    0.90145       1.5030  ...      0.98075  30.125     30.15\n",
              "2019-12-26     1.4411    0.90070       1.5002  ...      0.98080  30.110     30.15\n",
              "2019-12-27     1.4331    0.89490       1.4919  ...      0.97410  30.090     30.14\n",
              "2019-12-30     1.4278    0.89150       1.4846  ...      0.96770  30.040     29.94\n",
              "2019-12-31     1.4225    0.89070       1.4826  ...      0.96770  29.910     29.75\n",
              "\n",
              "[5217 rows x 22 columns]"
            ]
          },
          "metadata": {
            "tags": []
          },
          "execution_count": 118
        }
      ]
    },
    {
      "cell_type": "code",
      "metadata": {
        "id": "30psEisbqR8_",
        "colab_type": "code",
        "outputId": "41864bdb-4856-4246-a07b-f9667909fe7d",
        "colab": {
          "base_uri": "https://localhost:8080/",
          "height": 510
        }
      },
      "source": [
        "df.info()"
      ],
      "execution_count": 107,
      "outputs": [
        {
          "output_type": "stream",
          "text": [
            "<class 'pandas.core.frame.DataFrame'>\n",
            "DatetimeIndex: 5217 entries, 2000-01-03 to 2019-12-31\n",
            "Data columns (total 22 columns):\n",
            " #   Column          Non-Null Count  Dtype  \n",
            "---  ------          --------------  -----  \n",
            " 0   AUSTRALIA       5217 non-null   float64\n",
            " 1   EURO AREA       5217 non-null   float64\n",
            " 2   NEW ZEALAND     5217 non-null   float64\n",
            " 3   UNITED KINGDOM  5217 non-null   float64\n",
            " 4   BRAZIL          5217 non-null   float64\n",
            " 5   CANADA          5217 non-null   float64\n",
            " 6   CHINA           5217 non-null   float64\n",
            " 7   HONG KONG       5217 non-null   float64\n",
            " 8   INDIA           5217 non-null   float64\n",
            " 9   KOREA           5217 non-null   float64\n",
            " 10  MEXICO          5217 non-null   float64\n",
            " 11  SOUTH AFRICA    5217 non-null   float64\n",
            " 12  SINGAPORE       5217 non-null   float64\n",
            " 13  DENMARK         5217 non-null   float64\n",
            " 14  JAPAN           5217 non-null   float64\n",
            " 15  MALAYSIA        5217 non-null   float64\n",
            " 16  NORWAY          5217 non-null   float64\n",
            " 17  SWEDEN          5217 non-null   float64\n",
            " 18  SRI LANKA       5217 non-null   float64\n",
            " 19  SWITZERLAND     5217 non-null   float64\n",
            " 20  TAIWAN          5217 non-null   float64\n",
            " 21  THAILAND        5217 non-null   float64\n",
            "dtypes: float64(22)\n",
            "memory usage: 937.4 KB\n"
          ],
          "name": "stdout"
        }
      ]
    },
    {
      "cell_type": "code",
      "metadata": {
        "id": "RuQwnbAFqplN",
        "colab_type": "code",
        "outputId": "c64044f8-c0b4-4199-8f57-3f5dc25dfcc8",
        "colab": {
          "base_uri": "https://localhost:8080/",
          "height": 657
        }
      },
      "source": [
        "# Prepare a full dataframe\n",
        "data = {}\n",
        "data[\"DATE\"] = pd.date_range(\"2000-01-03\", \"2019-12-31\", freq=\"D\")\n",
        "\n",
        "finaldf = pd.DataFrame(data=data)\n",
        "finaldf = finaldf.set_index(\"DATE\")\n",
        "finaldf = finaldf.merge(df, left_index=True, right_index=True, how=\"left\")\n",
        "finaldf = finaldf.interpolate(method = 'linear', limit_direction ='forward') \n",
        "finaldf"
      ],
      "execution_count": 187,
      "outputs": [
        {
          "output_type": "execute_result",
          "data": {
            "text/html": [
              "<div>\n",
              "<style scoped>\n",
              "    .dataframe tbody tr th:only-of-type {\n",
              "        vertical-align: middle;\n",
              "    }\n",
              "\n",
              "    .dataframe tbody tr th {\n",
              "        vertical-align: top;\n",
              "    }\n",
              "\n",
              "    .dataframe thead th {\n",
              "        text-align: right;\n",
              "    }\n",
              "</style>\n",
              "<table border=\"1\" class=\"dataframe\">\n",
              "  <thead>\n",
              "    <tr style=\"text-align: right;\">\n",
              "      <th></th>\n",
              "      <th>AUSTRALIA</th>\n",
              "      <th>EURO AREA</th>\n",
              "      <th>NEW ZEALAND</th>\n",
              "      <th>UNITED KINGDOM</th>\n",
              "      <th>BRAZIL</th>\n",
              "      <th>CANADA</th>\n",
              "      <th>CHINA</th>\n",
              "      <th>HONG KONG</th>\n",
              "      <th>INDIA</th>\n",
              "      <th>KOREA</th>\n",
              "      <th>MEXICO</th>\n",
              "      <th>SOUTH AFRICA</th>\n",
              "      <th>SINGAPORE</th>\n",
              "      <th>DENMARK</th>\n",
              "      <th>JAPAN</th>\n",
              "      <th>MALAYSIA</th>\n",
              "      <th>NORWAY</th>\n",
              "      <th>SWEDEN</th>\n",
              "      <th>SRI LANKA</th>\n",
              "      <th>SWITZERLAND</th>\n",
              "      <th>TAIWAN</th>\n",
              "      <th>THAILAND</th>\n",
              "    </tr>\n",
              "    <tr>\n",
              "      <th>DATE</th>\n",
              "      <th></th>\n",
              "      <th></th>\n",
              "      <th></th>\n",
              "      <th></th>\n",
              "      <th></th>\n",
              "      <th></th>\n",
              "      <th></th>\n",
              "      <th></th>\n",
              "      <th></th>\n",
              "      <th></th>\n",
              "      <th></th>\n",
              "      <th></th>\n",
              "      <th></th>\n",
              "      <th></th>\n",
              "      <th></th>\n",
              "      <th></th>\n",
              "      <th></th>\n",
              "      <th></th>\n",
              "      <th></th>\n",
              "      <th></th>\n",
              "      <th></th>\n",
              "      <th></th>\n",
              "    </tr>\n",
              "  </thead>\n",
              "  <tbody>\n",
              "    <tr>\n",
              "      <th>2000-01-03</th>\n",
              "      <td>1.517200</td>\n",
              "      <td>0.984700</td>\n",
              "      <td>1.903300</td>\n",
              "      <td>0.614600</td>\n",
              "      <td>1.805000</td>\n",
              "      <td>1.4465</td>\n",
              "      <td>8.2798</td>\n",
              "      <td>7.776500</td>\n",
              "      <td>43.55</td>\n",
              "      <td>1128.000000</td>\n",
              "      <td>9.401500</td>\n",
              "      <td>6.126000</td>\n",
              "      <td>1.656300</td>\n",
              "      <td>7.3290</td>\n",
              "      <td>101.700000</td>\n",
              "      <td>3.8000</td>\n",
              "      <td>7.964000</td>\n",
              "      <td>8.443000</td>\n",
              "      <td>72.300000</td>\n",
              "      <td>1.580800</td>\n",
              "      <td>31.380000</td>\n",
              "      <td>36.970000</td>\n",
              "    </tr>\n",
              "    <tr>\n",
              "      <th>2000-01-04</th>\n",
              "      <td>1.523900</td>\n",
              "      <td>0.970000</td>\n",
              "      <td>1.923800</td>\n",
              "      <td>0.610900</td>\n",
              "      <td>1.840500</td>\n",
              "      <td>1.4518</td>\n",
              "      <td>8.2799</td>\n",
              "      <td>7.777500</td>\n",
              "      <td>43.55</td>\n",
              "      <td>1122.500000</td>\n",
              "      <td>9.457000</td>\n",
              "      <td>6.085000</td>\n",
              "      <td>1.653500</td>\n",
              "      <td>7.2180</td>\n",
              "      <td>103.090000</td>\n",
              "      <td>3.8000</td>\n",
              "      <td>7.934000</td>\n",
              "      <td>8.360000</td>\n",
              "      <td>72.650000</td>\n",
              "      <td>1.556500</td>\n",
              "      <td>30.600000</td>\n",
              "      <td>37.130000</td>\n",
              "    </tr>\n",
              "    <tr>\n",
              "      <th>2000-01-05</th>\n",
              "      <td>1.526700</td>\n",
              "      <td>0.967600</td>\n",
              "      <td>1.933900</td>\n",
              "      <td>0.609200</td>\n",
              "      <td>1.856000</td>\n",
              "      <td>1.4518</td>\n",
              "      <td>8.2798</td>\n",
              "      <td>7.778000</td>\n",
              "      <td>43.55</td>\n",
              "      <td>1135.000000</td>\n",
              "      <td>9.535000</td>\n",
              "      <td>6.070000</td>\n",
              "      <td>1.656000</td>\n",
              "      <td>7.2080</td>\n",
              "      <td>103.770000</td>\n",
              "      <td>3.8000</td>\n",
              "      <td>7.935000</td>\n",
              "      <td>8.353000</td>\n",
              "      <td>72.950000</td>\n",
              "      <td>1.552600</td>\n",
              "      <td>30.800000</td>\n",
              "      <td>37.100000</td>\n",
              "    </tr>\n",
              "    <tr>\n",
              "      <th>2000-01-06</th>\n",
              "      <td>1.529100</td>\n",
              "      <td>0.968600</td>\n",
              "      <td>1.943600</td>\n",
              "      <td>0.607000</td>\n",
              "      <td>1.840000</td>\n",
              "      <td>1.4571</td>\n",
              "      <td>8.2797</td>\n",
              "      <td>7.778500</td>\n",
              "      <td>43.55</td>\n",
              "      <td>1146.500000</td>\n",
              "      <td>9.567000</td>\n",
              "      <td>6.080000</td>\n",
              "      <td>1.665500</td>\n",
              "      <td>7.2125</td>\n",
              "      <td>105.190000</td>\n",
              "      <td>3.8000</td>\n",
              "      <td>7.940000</td>\n",
              "      <td>8.367500</td>\n",
              "      <td>72.950000</td>\n",
              "      <td>1.554000</td>\n",
              "      <td>31.750000</td>\n",
              "      <td>37.620000</td>\n",
              "    </tr>\n",
              "    <tr>\n",
              "      <th>2000-01-07</th>\n",
              "      <td>1.527200</td>\n",
              "      <td>0.971400</td>\n",
              "      <td>1.938000</td>\n",
              "      <td>0.610400</td>\n",
              "      <td>1.831000</td>\n",
              "      <td>1.4505</td>\n",
              "      <td>8.2794</td>\n",
              "      <td>7.778300</td>\n",
              "      <td>43.55</td>\n",
              "      <td>1138.000000</td>\n",
              "      <td>9.520000</td>\n",
              "      <td>6.057000</td>\n",
              "      <td>1.662500</td>\n",
              "      <td>7.2285</td>\n",
              "      <td>105.170000</td>\n",
              "      <td>3.8000</td>\n",
              "      <td>7.966000</td>\n",
              "      <td>8.415000</td>\n",
              "      <td>73.150000</td>\n",
              "      <td>1.562300</td>\n",
              "      <td>30.850000</td>\n",
              "      <td>37.300000</td>\n",
              "    </tr>\n",
              "    <tr>\n",
              "      <th>...</th>\n",
              "      <td>...</td>\n",
              "      <td>...</td>\n",
              "      <td>...</td>\n",
              "      <td>...</td>\n",
              "      <td>...</td>\n",
              "      <td>...</td>\n",
              "      <td>...</td>\n",
              "      <td>...</td>\n",
              "      <td>...</td>\n",
              "      <td>...</td>\n",
              "      <td>...</td>\n",
              "      <td>...</td>\n",
              "      <td>...</td>\n",
              "      <td>...</td>\n",
              "      <td>...</td>\n",
              "      <td>...</td>\n",
              "      <td>...</td>\n",
              "      <td>...</td>\n",
              "      <td>...</td>\n",
              "      <td>...</td>\n",
              "      <td>...</td>\n",
              "      <td>...</td>\n",
              "    </tr>\n",
              "    <tr>\n",
              "      <th>2019-12-27</th>\n",
              "      <td>1.433100</td>\n",
              "      <td>0.894900</td>\n",
              "      <td>1.491900</td>\n",
              "      <td>0.763900</td>\n",
              "      <td>4.050700</td>\n",
              "      <td>1.3073</td>\n",
              "      <td>6.9954</td>\n",
              "      <td>7.787400</td>\n",
              "      <td>71.45</td>\n",
              "      <td>1160.870000</td>\n",
              "      <td>18.819000</td>\n",
              "      <td>14.025000</td>\n",
              "      <td>1.352000</td>\n",
              "      <td>6.6829</td>\n",
              "      <td>109.470000</td>\n",
              "      <td>4.1260</td>\n",
              "      <td>8.829100</td>\n",
              "      <td>9.340500</td>\n",
              "      <td>181.350000</td>\n",
              "      <td>0.974100</td>\n",
              "      <td>30.090000</td>\n",
              "      <td>30.140000</td>\n",
              "    </tr>\n",
              "    <tr>\n",
              "      <th>2019-12-28</th>\n",
              "      <td>1.431333</td>\n",
              "      <td>0.893767</td>\n",
              "      <td>1.489467</td>\n",
              "      <td>0.762933</td>\n",
              "      <td>4.038867</td>\n",
              "      <td>1.3068</td>\n",
              "      <td>6.9924</td>\n",
              "      <td>7.786833</td>\n",
              "      <td>71.40</td>\n",
              "      <td>1159.163333</td>\n",
              "      <td>18.833667</td>\n",
              "      <td>14.035333</td>\n",
              "      <td>1.350767</td>\n",
              "      <td>6.6749</td>\n",
              "      <td>109.263333</td>\n",
              "      <td>4.1191</td>\n",
              "      <td>8.814033</td>\n",
              "      <td>9.331833</td>\n",
              "      <td>181.433333</td>\n",
              "      <td>0.971967</td>\n",
              "      <td>30.073333</td>\n",
              "      <td>30.073333</td>\n",
              "    </tr>\n",
              "    <tr>\n",
              "      <th>2019-12-29</th>\n",
              "      <td>1.429567</td>\n",
              "      <td>0.892633</td>\n",
              "      <td>1.487033</td>\n",
              "      <td>0.761967</td>\n",
              "      <td>4.027033</td>\n",
              "      <td>1.3063</td>\n",
              "      <td>6.9894</td>\n",
              "      <td>7.786267</td>\n",
              "      <td>71.35</td>\n",
              "      <td>1157.456667</td>\n",
              "      <td>18.848333</td>\n",
              "      <td>14.045667</td>\n",
              "      <td>1.349533</td>\n",
              "      <td>6.6669</td>\n",
              "      <td>109.056667</td>\n",
              "      <td>4.1122</td>\n",
              "      <td>8.798967</td>\n",
              "      <td>9.323167</td>\n",
              "      <td>181.516667</td>\n",
              "      <td>0.969833</td>\n",
              "      <td>30.056667</td>\n",
              "      <td>30.006667</td>\n",
              "    </tr>\n",
              "    <tr>\n",
              "      <th>2019-12-30</th>\n",
              "      <td>1.427800</td>\n",
              "      <td>0.891500</td>\n",
              "      <td>1.484600</td>\n",
              "      <td>0.761000</td>\n",
              "      <td>4.015200</td>\n",
              "      <td>1.3058</td>\n",
              "      <td>6.9864</td>\n",
              "      <td>7.785700</td>\n",
              "      <td>71.30</td>\n",
              "      <td>1155.750000</td>\n",
              "      <td>18.863000</td>\n",
              "      <td>14.056000</td>\n",
              "      <td>1.348300</td>\n",
              "      <td>6.6589</td>\n",
              "      <td>108.850000</td>\n",
              "      <td>4.1053</td>\n",
              "      <td>8.783900</td>\n",
              "      <td>9.314500</td>\n",
              "      <td>181.600000</td>\n",
              "      <td>0.967700</td>\n",
              "      <td>30.040000</td>\n",
              "      <td>29.940000</td>\n",
              "    </tr>\n",
              "    <tr>\n",
              "      <th>2019-12-31</th>\n",
              "      <td>1.422500</td>\n",
              "      <td>0.890700</td>\n",
              "      <td>1.482600</td>\n",
              "      <td>0.753600</td>\n",
              "      <td>4.019000</td>\n",
              "      <td>1.2962</td>\n",
              "      <td>6.9618</td>\n",
              "      <td>7.789400</td>\n",
              "      <td>71.36</td>\n",
              "      <td>1155.460000</td>\n",
              "      <td>18.860000</td>\n",
              "      <td>13.973000</td>\n",
              "      <td>1.344600</td>\n",
              "      <td>6.6554</td>\n",
              "      <td>108.670000</td>\n",
              "      <td>4.0918</td>\n",
              "      <td>8.782300</td>\n",
              "      <td>9.342500</td>\n",
              "      <td>181.300000</td>\n",
              "      <td>0.967700</td>\n",
              "      <td>29.910000</td>\n",
              "      <td>29.750000</td>\n",
              "    </tr>\n",
              "  </tbody>\n",
              "</table>\n",
              "<p>7303 rows × 22 columns</p>\n",
              "</div>"
            ],
            "text/plain": [
              "            AUSTRALIA  EURO AREA  ...     TAIWAN   THAILAND\n",
              "DATE                              ...                      \n",
              "2000-01-03   1.517200   0.984700  ...  31.380000  36.970000\n",
              "2000-01-04   1.523900   0.970000  ...  30.600000  37.130000\n",
              "2000-01-05   1.526700   0.967600  ...  30.800000  37.100000\n",
              "2000-01-06   1.529100   0.968600  ...  31.750000  37.620000\n",
              "2000-01-07   1.527200   0.971400  ...  30.850000  37.300000\n",
              "...               ...        ...  ...        ...        ...\n",
              "2019-12-27   1.433100   0.894900  ...  30.090000  30.140000\n",
              "2019-12-28   1.431333   0.893767  ...  30.073333  30.073333\n",
              "2019-12-29   1.429567   0.892633  ...  30.056667  30.006667\n",
              "2019-12-30   1.427800   0.891500  ...  30.040000  29.940000\n",
              "2019-12-31   1.422500   0.890700  ...  29.910000  29.750000\n",
              "\n",
              "[7303 rows x 22 columns]"
            ]
          },
          "metadata": {
            "tags": []
          },
          "execution_count": 187
        }
      ]
    },
    {
      "cell_type": "code",
      "metadata": {
        "id": "BUbS71V-hXEs",
        "colab_type": "code",
        "outputId": "c34b6f5b-1c08-4941-876e-239bd0975445",
        "colab": {
          "base_uri": "https://localhost:8080/",
          "height": 510
        }
      },
      "source": [
        "finaldf.info()"
      ],
      "execution_count": 113,
      "outputs": [
        {
          "output_type": "stream",
          "text": [
            "<class 'pandas.core.frame.DataFrame'>\n",
            "DatetimeIndex: 7303 entries, 2000-01-03 to 2019-12-31\n",
            "Data columns (total 22 columns):\n",
            " #   Column          Non-Null Count  Dtype  \n",
            "---  ------          --------------  -----  \n",
            " 0   AUSTRALIA       7303 non-null   float64\n",
            " 1   EURO AREA       7303 non-null   float64\n",
            " 2   NEW ZEALAND     7303 non-null   float64\n",
            " 3   UNITED KINGDOM  7303 non-null   float64\n",
            " 4   BRAZIL          7303 non-null   float64\n",
            " 5   CANADA          7303 non-null   float64\n",
            " 6   CHINA           7303 non-null   float64\n",
            " 7   HONG KONG       7303 non-null   float64\n",
            " 8   INDIA           7303 non-null   float64\n",
            " 9   KOREA           7303 non-null   float64\n",
            " 10  MEXICO          7303 non-null   float64\n",
            " 11  SOUTH AFRICA    7303 non-null   float64\n",
            " 12  SINGAPORE       7303 non-null   float64\n",
            " 13  DENMARK         7303 non-null   float64\n",
            " 14  JAPAN           7303 non-null   float64\n",
            " 15  MALAYSIA        7303 non-null   float64\n",
            " 16  NORWAY          7303 non-null   float64\n",
            " 17  SWEDEN          7303 non-null   float64\n",
            " 18  SRI LANKA       7303 non-null   float64\n",
            " 19  SWITZERLAND     7303 non-null   float64\n",
            " 20  TAIWAN          7303 non-null   float64\n",
            " 21  THAILAND        7303 non-null   float64\n",
            "dtypes: float64(22)\n",
            "memory usage: 1.6 MB\n"
          ],
          "name": "stdout"
        }
      ]
    },
    {
      "cell_type": "markdown",
      "metadata": {
        "id": "zFis8VsCqVep",
        "colab_type": "text"
      },
      "source": [
        "So, looks like the data is finally ready for further use and is clean of missing values and is easier to understand."
      ]
    },
    {
      "cell_type": "code",
      "metadata": {
        "id": "THhwlX5K1trR",
        "colab_type": "code",
        "outputId": "c516e806-4999-46f1-a813-ca6b323483f0",
        "colab": {
          "base_uri": "https://localhost:8080/",
          "height": 302
        }
      },
      "source": [
        "plt.figure(figsize=(10,4)) \n",
        "plt.xlabel('Date') \n",
        "plt.ylabel('Exchange Rate') \n",
        "plt.plot(df['INDIA'])"
      ],
      "execution_count": 58,
      "outputs": [
        {
          "output_type": "execute_result",
          "data": {
            "text/plain": [
              "[<matplotlib.lines.Line2D at 0x7fbb0bad60f0>]"
            ]
          },
          "metadata": {
            "tags": []
          },
          "execution_count": 58
        },
        {
          "output_type": "display_data",
          "data": {
            "image/png": "[encoded data removed]",
            "text/plain": [
              "<Figure size 720x288 with 1 Axes>"
            ]
          },
          "metadata": {
            "tags": []
          }
        }
      ]
    },
    {
      "cell_type": "code",
      "metadata": {
        "id": "RGK-PvrG2Wbd",
        "colab_type": "code",
        "outputId": "a985379c-bc88-4c66-bbe3-0b83bd9fe7ae",
        "colab": {
          "base_uri": "https://localhost:8080/",
          "height": 305
        }
      },
      "source": [
        "plt.figure(figsize=(10,4)) \n",
        "plt.xlabel('Date') \n",
        "plt.ylabel('Exchange Rate') \n",
        "plt.plot(df['KOREA'])"
      ],
      "execution_count": 59,
      "outputs": [
        {
          "output_type": "execute_result",
          "data": {
            "text/plain": [
              "[<matplotlib.lines.Line2D at 0x7fbb0baa2f60>]"
            ]
          },
          "metadata": {
            "tags": []
          },
          "execution_count": 59
        },
        {
          "output_type": "display_data",
          "data": {
            "image/png": "[encoded data removed]",
            "text/plain": [
              "<Figure size 720x288 with 1 Axes>"
            ]
          },
          "metadata": {
            "tags": []
          }
        }
      ]
    },
    {
      "cell_type": "code",
      "metadata": {
        "id": "6eshPRWq2vmR",
        "colab_type": "code",
        "outputId": "d89becc1-7e7e-4584-a491-379928dfaac4",
        "colab": {
          "base_uri": "https://localhost:8080/",
          "height": 302
        }
      },
      "source": [
        "plt.figure(figsize=(10,4)) \n",
        "plt.xlabel('Date') \n",
        "plt.ylabel('Exchange Rate') \n",
        "plt.plot(df['EURO AREA'])"
      ],
      "execution_count": 60,
      "outputs": [
        {
          "output_type": "execute_result",
          "data": {
            "text/plain": [
              "[<matplotlib.lines.Line2D at 0x7fbb0b9fbf28>]"
            ]
          },
          "metadata": {
            "tags": []
          },
          "execution_count": 60
        },
        {
          "output_type": "display_data",
          "data": {
            "image/png": "[encoded data removed]",
            "text/plain": [
              "<Figure size 720x288 with 1 Axes>"
            ]
          },
          "metadata": {
            "tags": []
          }
        }
      ]
    },
    {
      "cell_type": "markdown",
      "metadata": {
        "id": "vGZoHd-hB115",
        "colab_type": "text"
      },
      "source": [
        "So, the dataframe that we have is a multivariate timeseries. we can either work with this multivariate data or convert it into univariate and work with single country's stock. we are going to work with indian stock."
      ]
    },
    {
      "cell_type": "code",
      "metadata": {
        "id": "MvPX9oOORcfU",
        "colab_type": "code",
        "outputId": "02a13c64-ec9a-4fb2-8654-0be8b300189f",
        "colab": {
          "base_uri": "https://localhost:8080/",
          "height": 450
        }
      },
      "source": [
        "unidf = finaldf.drop(columns=['AUSTRALIA'\t,'EURO AREA'\t,'NEW ZEALAND'\t,'UNITED KINGDOM'\t,'BRAZIL'\t,'CANADA'\t,'CHINA'\t,'HONG KONG'\t,'KOREA'\t,'MEXICO'\t,'SOUTH AFRICA'\t,'SINGAPORE'\t,'DENMARK' ,'JAPAN','MALAYSIA','NORWAY','SWEDEN','SRI LANKA'\t,'SWITZERLAND','TAIWAN','THAILAND'])\n",
        "unidf"
      ],
      "execution_count": 156,
      "outputs": [
        {
          "output_type": "execute_result",
          "data": {
            "text/html": [
              "<div>\n",
              "<style scoped>\n",
              "    .dataframe tbody tr th:only-of-type {\n",
              "        vertical-align: middle;\n",
              "    }\n",
              "\n",
              "    .dataframe tbody tr th {\n",
              "        vertical-align: top;\n",
              "    }\n",
              "\n",
              "    .dataframe thead th {\n",
              "        text-align: right;\n",
              "    }\n",
              "</style>\n",
              "<table border=\"1\" class=\"dataframe\">\n",
              "  <thead>\n",
              "    <tr style=\"text-align: right;\">\n",
              "      <th></th>\n",
              "      <th>INDIA</th>\n",
              "    </tr>\n",
              "    <tr>\n",
              "      <th>DATE</th>\n",
              "      <th></th>\n",
              "    </tr>\n",
              "  </thead>\n",
              "  <tbody>\n",
              "    <tr>\n",
              "      <th>2000-01-03</th>\n",
              "      <td>43.55</td>\n",
              "    </tr>\n",
              "    <tr>\n",
              "      <th>2000-01-04</th>\n",
              "      <td>43.55</td>\n",
              "    </tr>\n",
              "    <tr>\n",
              "      <th>2000-01-05</th>\n",
              "      <td>43.55</td>\n",
              "    </tr>\n",
              "    <tr>\n",
              "      <th>2000-01-06</th>\n",
              "      <td>43.55</td>\n",
              "    </tr>\n",
              "    <tr>\n",
              "      <th>2000-01-07</th>\n",
              "      <td>43.55</td>\n",
              "    </tr>\n",
              "    <tr>\n",
              "      <th>...</th>\n",
              "      <td>...</td>\n",
              "    </tr>\n",
              "    <tr>\n",
              "      <th>2019-12-27</th>\n",
              "      <td>71.45</td>\n",
              "    </tr>\n",
              "    <tr>\n",
              "      <th>2019-12-28</th>\n",
              "      <td>71.40</td>\n",
              "    </tr>\n",
              "    <tr>\n",
              "      <th>2019-12-29</th>\n",
              "      <td>71.35</td>\n",
              "    </tr>\n",
              "    <tr>\n",
              "      <th>2019-12-30</th>\n",
              "      <td>71.30</td>\n",
              "    </tr>\n",
              "    <tr>\n",
              "      <th>2019-12-31</th>\n",
              "      <td>71.36</td>\n",
              "    </tr>\n",
              "  </tbody>\n",
              "</table>\n",
              "<p>7303 rows × 1 columns</p>\n",
              "</div>"
            ],
            "text/plain": [
              "            INDIA\n",
              "DATE             \n",
              "2000-01-03  43.55\n",
              "2000-01-04  43.55\n",
              "2000-01-05  43.55\n",
              "2000-01-06  43.55\n",
              "2000-01-07  43.55\n",
              "...           ...\n",
              "2019-12-27  71.45\n",
              "2019-12-28  71.40\n",
              "2019-12-29  71.35\n",
              "2019-12-30  71.30\n",
              "2019-12-31  71.36\n",
              "\n",
              "[7303 rows x 1 columns]"
            ]
          },
          "metadata": {
            "tags": []
          },
          "execution_count": 156
        }
      ]
    },
    {
      "cell_type": "markdown",
      "metadata": {
        "id": "RqnPppMkJGxB",
        "colab_type": "text"
      },
      "source": [
        "# **Dickey Fuller Test**"
      ]
    },
    {
      "cell_type": "markdown",
      "metadata": {
        "id": "LdSLoOcrJfcX",
        "colab_type": "text"
      },
      "source": [
        "we have to check whether the datis stationary or not if the data is stationary forecasting will be worthless"
      ]
    },
    {
      "cell_type": "code",
      "metadata": {
        "id": "gQl2UtAIJGHw",
        "colab_type": "code",
        "colab": {}
      },
      "source": [
        "from statsmodels.tsa.stattools import adfuller\n",
        "def adfuller_test(ts):\n",
        "  adfuller_result = adfuller(ts, autolag=None)\n",
        "  adfuller_out = pd.Series(adfuller_result[0:4],\n",
        "  index=[\"Test Statistic\",\"p-value\",\"Lags Used\",\"Number of Observations Used\"])\n",
        "  print(adfuller_out)\n",
        "  if adfuller_out.iloc[1]> 0.05:\n",
        "    print('Data is NOT stationary')\n",
        "  else:\n",
        "    print('Data is stationary')"
      ],
      "execution_count": 0,
      "outputs": []
    },
    {
      "cell_type": "code",
      "metadata": {
        "id": "wrHurgICJXWW",
        "colab_type": "code",
        "colab": {
          "base_uri": "https://localhost:8080/",
          "height": 119
        },
        "outputId": "d98167e6-400c-48fe-f840-23a13c8ecd18"
      },
      "source": [
        "adfuller_test(unidf.INDIA)"
      ],
      "execution_count": 126,
      "outputs": [
        {
          "output_type": "stream",
          "text": [
            "Test Statistic                   -0.132362\n",
            "p-value                           0.946118\n",
            "Lags Used                        33.000000\n",
            "Number of Observations Used    5183.000000\n",
            "dtype: float64\n",
            "Data is NOT stationary\n"
          ],
          "name": "stdout"
        }
      ]
    },
    {
      "cell_type": "code",
      "metadata": {
        "id": "-ZOBMjOUlVuC",
        "colab_type": "code",
        "colab": {
          "base_uri": "https://localhost:8080/",
          "height": 296
        },
        "outputId": "08e4abc3-956c-46f3-c367-911ee6fd8f9c"
      },
      "source": [
        "#Degrading into trend, seasonal and residual\n",
        "from statsmodels.tsa.seasonal import seasonal_decompose\n",
        "decomposed_result = seasonal_decompose(unidf.INDIA,model='add')\n",
        "decomposed_result.plot();"
      ],
      "execution_count": 219,
      "outputs": [
        {
          "output_type": "display_data",
          "data": {
            "image/png": "[encoded data removed]",
            "text/plain": [
              "<Figure size 432x288 with 4 Axes>"
            ]
          },
          "metadata": {
            "tags": []
          }
        }
      ]
    },
    {
      "cell_type": "code",
      "metadata": {
        "id": "ZZsuhCN0lZQ3",
        "colab_type": "code",
        "colab": {
          "base_uri": "https://localhost:8080/",
          "height": 901
        },
        "outputId": "54922e1d-f6e0-4a87-ab07-3c91eec5461e"
      },
      "source": [
        "decomposed_result.seasonal.head(50)\n",
        "#Here it can be inferred that seasonality has a period of a week"
      ],
      "execution_count": 220,
      "outputs": [
        {
          "output_type": "execute_result",
          "data": {
            "text/plain": [
              "DATE\n",
              "2000-01-03    0.011160\n",
              "2000-01-04    0.017230\n",
              "2000-01-05    0.008852\n",
              "2000-01-06    0.003958\n",
              "2000-01-07   -0.026145\n",
              "2000-01-08   -0.013735\n",
              "2000-01-09   -0.001320\n",
              "2000-01-10    0.011160\n",
              "2000-01-11    0.017230\n",
              "2000-01-12    0.008852\n",
              "2000-01-13    0.003958\n",
              "2000-01-14   -0.026145\n",
              "2000-01-15   -0.013735\n",
              "2000-01-16   -0.001320\n",
              "2000-01-17    0.011160\n",
              "2000-01-18    0.017230\n",
              "2000-01-19    0.008852\n",
              "2000-01-20    0.003958\n",
              "2000-01-21   -0.026145\n",
              "2000-01-22   -0.013735\n",
              "2000-01-23   -0.001320\n",
              "2000-01-24    0.011160\n",
              "2000-01-25    0.017230\n",
              "2000-01-26    0.008852\n",
              "2000-01-27    0.003958\n",
              "2000-01-28   -0.026145\n",
              "2000-01-29   -0.013735\n",
              "2000-01-30   -0.001320\n",
              "2000-01-31    0.011160\n",
              "2000-02-01    0.017230\n",
              "2000-02-02    0.008852\n",
              "2000-02-03    0.003958\n",
              "2000-02-04   -0.026145\n",
              "2000-02-05   -0.013735\n",
              "2000-02-06   -0.001320\n",
              "2000-02-07    0.011160\n",
              "2000-02-08    0.017230\n",
              "2000-02-09    0.008852\n",
              "2000-02-10    0.003958\n",
              "2000-02-11   -0.026145\n",
              "2000-02-12   -0.013735\n",
              "2000-02-13   -0.001320\n",
              "2000-02-14    0.011160\n",
              "2000-02-15    0.017230\n",
              "2000-02-16    0.008852\n",
              "2000-02-17    0.003958\n",
              "2000-02-18   -0.026145\n",
              "2000-02-19   -0.013735\n",
              "2000-02-20   -0.001320\n",
              "2000-02-21    0.011160\n",
              "Name: INDIA, dtype: float64"
            ]
          },
          "metadata": {
            "tags": []
          },
          "execution_count": 220
        }
      ]
    },
    {
      "cell_type": "code",
      "metadata": {
        "id": "VHysWzG0663x",
        "colab_type": "code",
        "colab": {}
      },
      "source": [
        "#splitting into test and train data\n",
        "train = unidf.loc[:\"2019-11-30\"]\n",
        "test = unidf.loc[\"2019-12-01\":\"2019-12-31\"]"
      ],
      "execution_count": 0,
      "outputs": []
    },
    {
      "cell_type": "markdown",
      "metadata": {
        "id": "2xh2XRZh9Lg6",
        "colab_type": "text"
      },
      "source": [
        "# **Forecasting**"
      ]
    },
    {
      "cell_type": "markdown",
      "metadata": {
        "id": "Ip69mdMeevGg",
        "colab_type": "text"
      },
      "source": [
        "**Moving Average**"
      ]
    },
    {
      "cell_type": "code",
      "metadata": {
        "id": "Q0CsiYCr9P1U",
        "colab_type": "code",
        "outputId": "4a837793-f74e-42eb-c3bc-a14a646cccdc",
        "colab": {
          "base_uri": "https://localhost:8080/",
          "height": 357
        }
      },
      "source": [
        "train['sma'] = train.INDIA.rolling(window= 2).mean()\n",
        "train.tail()"
      ],
      "execution_count": 300,
      "outputs": [
        {
          "output_type": "stream",
          "text": [
            "/usr/local/lib/python3.6/dist-packages/ipykernel_launcher.py:1: SettingWithCopyWarning: \n",
            "A value is trying to be set on a copy of a slice from a DataFrame.\n",
            "Try using .loc[row_indexer,col_indexer] = value instead\n",
            "\n",
            "See the caveats in the documentation: https://pandas.pydata.org/pandas-docs/stable/user_guide/indexing.html#returning-a-view-versus-a-copy\n",
            "  \"\"\"Entry point for launching an IPython kernel.\n"
          ],
          "name": "stderr"
        },
        {
          "output_type": "execute_result",
          "data": {
            "text/html": [
              "<div>\n",
              "<style scoped>\n",
              "    .dataframe tbody tr th:only-of-type {\n",
              "        vertical-align: middle;\n",
              "    }\n",
              "\n",
              "    .dataframe tbody tr th {\n",
              "        vertical-align: top;\n",
              "    }\n",
              "\n",
              "    .dataframe thead th {\n",
              "        text-align: right;\n",
              "    }\n",
              "</style>\n",
              "<table border=\"1\" class=\"dataframe\">\n",
              "  <thead>\n",
              "    <tr style=\"text-align: right;\">\n",
              "      <th></th>\n",
              "      <th>INDIA</th>\n",
              "      <th>sma</th>\n",
              "    </tr>\n",
              "    <tr>\n",
              "      <th>DATE</th>\n",
              "      <th></th>\n",
              "      <th></th>\n",
              "    </tr>\n",
              "  </thead>\n",
              "  <tbody>\n",
              "    <tr>\n",
              "      <th>2019-11-26</th>\n",
              "      <td>71.510000</td>\n",
              "      <td>71.600000</td>\n",
              "    </tr>\n",
              "    <tr>\n",
              "      <th>2019-11-27</th>\n",
              "      <td>71.260000</td>\n",
              "      <td>71.385000</td>\n",
              "    </tr>\n",
              "    <tr>\n",
              "      <th>2019-11-28</th>\n",
              "      <td>71.505000</td>\n",
              "      <td>71.382500</td>\n",
              "    </tr>\n",
              "    <tr>\n",
              "      <th>2019-11-29</th>\n",
              "      <td>71.750000</td>\n",
              "      <td>71.627500</td>\n",
              "    </tr>\n",
              "    <tr>\n",
              "      <th>2019-11-30</th>\n",
              "      <td>71.716667</td>\n",
              "      <td>71.733333</td>\n",
              "    </tr>\n",
              "  </tbody>\n",
              "</table>\n",
              "</div>"
            ],
            "text/plain": [
              "                INDIA        sma\n",
              "DATE                            \n",
              "2019-11-26  71.510000  71.600000\n",
              "2019-11-27  71.260000  71.385000\n",
              "2019-11-28  71.505000  71.382500\n",
              "2019-11-29  71.750000  71.627500\n",
              "2019-11-30  71.716667  71.733333"
            ]
          },
          "metadata": {
            "tags": []
          },
          "execution_count": 300
        }
      ]
    },
    {
      "cell_type": "code",
      "metadata": {
        "id": "pJzBeRrJISb8",
        "colab_type": "code",
        "colab": {
          "base_uri": "https://localhost:8080/",
          "height": 139
        },
        "outputId": "9194c98a-f598-4209-df29-1b756781653b"
      },
      "source": [
        "#Predicting from SMA\n",
        "def SMA_prediction(periods):\n",
        "  train1 = train.sma.values\n",
        "  train2 = train1.tolist()\n",
        "  pred = []\n",
        "  for i in range(periods):\n",
        "    c_batch = train2[-30:]\n",
        "    next_pred = sum(c_batch) /(30)\n",
        "    train2.append(next_pred)\n",
        "    pred.append(next_pred)\n",
        "  return pred\n",
        "  \n",
        "\n",
        "\n",
        "test['SMA_prediction'] = SMA_prediction(31)"
      ],
      "execution_count": 301,
      "outputs": [
        {
          "output_type": "stream",
          "text": [
            "/usr/local/lib/python3.6/dist-packages/ipykernel_launcher.py:14: SettingWithCopyWarning: \n",
            "A value is trying to be set on a copy of a slice from a DataFrame.\n",
            "Try using .loc[row_indexer,col_indexer] = value instead\n",
            "\n",
            "See the caveats in the documentation: https://pandas.pydata.org/pandas-docs/stable/user_guide/indexing.html#returning-a-view-versus-a-copy\n",
            "  \n"
          ],
          "name": "stderr"
        }
      ]
    },
    {
      "cell_type": "code",
      "metadata": {
        "id": "MoxLgtwll0z5",
        "colab_type": "code",
        "colab": {
          "base_uri": "https://localhost:8080/",
          "height": 486
        },
        "outputId": "fdd70c67-8023-426b-beaf-856562a36a1f"
      },
      "source": [
        "#Visualising price\n",
        "train.INDIA.plot(figsize = (19,10),legend = True, label = 'Training Data')\n",
        "test['SMA_prediction'].plot(figsize = (19,10),legend = True, label = 'Prediction')\n",
        "train.sma.plot(figsize = (19,10),legend = True, label = 'Smoothened Data')\n",
        "test['INDIA'].plot(figsize = (19,10),legend = True, label = 'test Data')"
      ],
      "execution_count": 302,
      "outputs": [
        {
          "output_type": "execute_result",
          "data": {
            "text/plain": [
              "<matplotlib.axes._subplots.AxesSubplot at 0x7fbafebf2940>"
            ]
          },
          "metadata": {
            "tags": []
          },
          "execution_count": 302
        },
        {
          "output_type": "display_data",
          "data": {
            "image/png": "[encoded data removed]",
            "text/plain": [
              "<Figure size 1368x720 with 1 Axes>"
            ]
          },
          "metadata": {
            "tags": []
          }
        }
      ]
    },
    {
      "cell_type": "markdown",
      "metadata": {
        "id": "GxqfLkdmfib8",
        "colab_type": "text"
      },
      "source": [
        "Moving average give us a broader view, and we can now gauge the general direction of its future price. So, here we feed moving average 5000 reading of our given data and forcast the rest of the given data.If we look at original plot and the forecasted plot, general direction of the stocks seems similiar. "
      ]
    },
    {
      "cell_type": "code",
      "metadata": {
        "id": "NYUdRntAiZe2",
        "colab_type": "code",
        "colab": {}
      },
      "source": [
        "def get_mape(actual, predicted):\n",
        "  y_true, y_pred = np.array(actual), np.array(predicted)\n",
        "  return np.round( np.mean(np.abs((actual - predicted) / actual))* 100, 2 )"
      ],
      "execution_count": 0,
      "outputs": []
    },
    {
      "cell_type": "code",
      "metadata": {
        "id": "pinQkykNimKA",
        "colab_type": "code",
        "outputId": "e159dcb2-9b25-4ff5-bf22-824052c6e6ff",
        "colab": {
          "base_uri": "https://localhost:8080/",
          "height": 34
        }
      },
      "source": [
        "get_mape(test.INDIA,test['SMA_prediction'])"
      ],
      "execution_count": 228,
      "outputs": [
        {
          "output_type": "execute_result",
          "data": {
            "text/plain": [
              "0.68"
            ]
          },
          "metadata": {
            "tags": []
          },
          "execution_count": 228
        }
      ]
    },
    {
      "cell_type": "markdown",
      "metadata": {
        "id": "RGo4CLyIjOxM",
        "colab_type": "text"
      },
      "source": [
        "By the plot its hard to understand if there is any error or fault in our forecast. So, we check the mean absolute error of the moving average which is **0.68** which is quite decent."
      ]
    },
    {
      "cell_type": "code",
      "metadata": {
        "id": "xsa8WUkRoX8C",
        "colab_type": "code",
        "colab": {
          "base_uri": "https://localhost:8080/",
          "height": 34
        },
        "outputId": "d53e4493-507c-4544-cf07-538e8b108269"
      },
      "source": [
        "print(np.sqrt(mean_squared_error(test.INDIA,test['SMA_prediction'])))"
      ],
      "execution_count": 229,
      "outputs": [
        {
          "output_type": "stream",
          "text": [
            "0.5442324576503398\n"
          ],
          "name": "stdout"
        }
      ]
    },
    {
      "cell_type": "markdown",
      "metadata": {
        "id": "JzBHRV8o8Cjk",
        "colab_type": "text"
      },
      "source": [
        " **Exponential Smoothing**"
      ]
    },
    {
      "cell_type": "markdown",
      "metadata": {
        "id": "eMkdPpSa8YyX",
        "colab_type": "text"
      },
      "source": [
        "The drawbacks of the simple moving average technique is that it gives equal weight to all the previous observations used in forecasting the future value. Exponential smoothing technique assigns diﬀerential weights to past observations."
      ]
    },
    {
      "cell_type": "code",
      "metadata": {
        "id": "Z-Zqgo0FkLuy",
        "colab_type": "code",
        "outputId": "598630d7-4f1e-4df3-bacc-3c2fe9cb5c01",
        "colab": {
          "base_uri": "https://localhost:8080/",
          "height": 572
        }
      },
      "source": [
        "train['wma'] = train.INDIA.ewm(span=2,).mean()\n",
        "train"
      ],
      "execution_count": 306,
      "outputs": [
        {
          "output_type": "stream",
          "text": [
            "/usr/local/lib/python3.6/dist-packages/ipykernel_launcher.py:1: SettingWithCopyWarning: \n",
            "A value is trying to be set on a copy of a slice from a DataFrame.\n",
            "Try using .loc[row_indexer,col_indexer] = value instead\n",
            "\n",
            "See the caveats in the documentation: https://pandas.pydata.org/pandas-docs/stable/user_guide/indexing.html#returning-a-view-versus-a-copy\n",
            "  \"\"\"Entry point for launching an IPython kernel.\n"
          ],
          "name": "stderr"
        },
        {
          "output_type": "execute_result",
          "data": {
            "text/html": [
              "<div>\n",
              "<style scoped>\n",
              "    .dataframe tbody tr th:only-of-type {\n",
              "        vertical-align: middle;\n",
              "    }\n",
              "\n",
              "    .dataframe tbody tr th {\n",
              "        vertical-align: top;\n",
              "    }\n",
              "\n",
              "    .dataframe thead th {\n",
              "        text-align: right;\n",
              "    }\n",
              "</style>\n",
              "<table border=\"1\" class=\"dataframe\">\n",
              "  <thead>\n",
              "    <tr style=\"text-align: right;\">\n",
              "      <th></th>\n",
              "      <th>INDIA</th>\n",
              "      <th>sma</th>\n",
              "      <th>wma</th>\n",
              "    </tr>\n",
              "    <tr>\n",
              "      <th>DATE</th>\n",
              "      <th></th>\n",
              "      <th></th>\n",
              "      <th></th>\n",
              "    </tr>\n",
              "  </thead>\n",
              "  <tbody>\n",
              "    <tr>\n",
              "      <th>2000-01-03</th>\n",
              "      <td>43.550000</td>\n",
              "      <td>NaN</td>\n",
              "      <td>43.550000</td>\n",
              "    </tr>\n",
              "    <tr>\n",
              "      <th>2000-01-04</th>\n",
              "      <td>43.550000</td>\n",
              "      <td>43.550000</td>\n",
              "      <td>43.550000</td>\n",
              "    </tr>\n",
              "    <tr>\n",
              "      <th>2000-01-05</th>\n",
              "      <td>43.550000</td>\n",
              "      <td>43.550000</td>\n",
              "      <td>43.550000</td>\n",
              "    </tr>\n",
              "    <tr>\n",
              "      <th>2000-01-06</th>\n",
              "      <td>43.550000</td>\n",
              "      <td>43.550000</td>\n",
              "      <td>43.550000</td>\n",
              "    </tr>\n",
              "    <tr>\n",
              "      <th>2000-01-07</th>\n",
              "      <td>43.550000</td>\n",
              "      <td>43.550000</td>\n",
              "      <td>43.550000</td>\n",
              "    </tr>\n",
              "    <tr>\n",
              "      <th>...</th>\n",
              "      <td>...</td>\n",
              "      <td>...</td>\n",
              "      <td>...</td>\n",
              "    </tr>\n",
              "    <tr>\n",
              "      <th>2019-11-26</th>\n",
              "      <td>71.510000</td>\n",
              "      <td>71.600000</td>\n",
              "      <td>71.573744</td>\n",
              "    </tr>\n",
              "    <tr>\n",
              "      <th>2019-11-27</th>\n",
              "      <td>71.260000</td>\n",
              "      <td>71.385000</td>\n",
              "      <td>71.364581</td>\n",
              "    </tr>\n",
              "    <tr>\n",
              "      <th>2019-11-28</th>\n",
              "      <td>71.505000</td>\n",
              "      <td>71.382500</td>\n",
              "      <td>71.458194</td>\n",
              "    </tr>\n",
              "    <tr>\n",
              "      <th>2019-11-29</th>\n",
              "      <td>71.750000</td>\n",
              "      <td>71.627500</td>\n",
              "      <td>71.652731</td>\n",
              "    </tr>\n",
              "    <tr>\n",
              "      <th>2019-11-30</th>\n",
              "      <td>71.716667</td>\n",
              "      <td>71.733333</td>\n",
              "      <td>71.695355</td>\n",
              "    </tr>\n",
              "  </tbody>\n",
              "</table>\n",
              "<p>7272 rows × 3 columns</p>\n",
              "</div>"
            ],
            "text/plain": [
              "                INDIA        sma        wma\n",
              "DATE                                       \n",
              "2000-01-03  43.550000        NaN  43.550000\n",
              "2000-01-04  43.550000  43.550000  43.550000\n",
              "2000-01-05  43.550000  43.550000  43.550000\n",
              "2000-01-06  43.550000  43.550000  43.550000\n",
              "2000-01-07  43.550000  43.550000  43.550000\n",
              "...               ...        ...        ...\n",
              "2019-11-26  71.510000  71.600000  71.573744\n",
              "2019-11-27  71.260000  71.385000  71.364581\n",
              "2019-11-28  71.505000  71.382500  71.458194\n",
              "2019-11-29  71.750000  71.627500  71.652731\n",
              "2019-11-30  71.716667  71.733333  71.695355\n",
              "\n",
              "[7272 rows x 3 columns]"
            ]
          },
          "metadata": {
            "tags": []
          },
          "execution_count": 306
        }
      ]
    },
    {
      "cell_type": "code",
      "metadata": {
        "id": "Kid55QI1pd8J",
        "colab_type": "code",
        "colab": {
          "base_uri": "https://localhost:8080/",
          "height": 139
        },
        "outputId": "4fbb87a6-60a7-4c70-8b95-d50da56fba7e"
      },
      "source": [
        "def WMA_prediction(periods):\n",
        "  train1 = train.wma.values\n",
        "  train2 = train1.tolist()\n",
        "  pred = []\n",
        "  for i in range(periods):\n",
        "    c_batch = train2[-30:]\n",
        "    next_pred = sum(c_batch) /30\n",
        "    train2.append(next_pred)\n",
        "    pred.append(next_pred)\n",
        "  return pred\n",
        "  \n",
        "\n",
        "\n",
        "test['WMA_prediction'] = WMA_prediction(31)"
      ],
      "execution_count": 307,
      "outputs": [
        {
          "output_type": "stream",
          "text": [
            "/usr/local/lib/python3.6/dist-packages/ipykernel_launcher.py:14: SettingWithCopyWarning: \n",
            "A value is trying to be set on a copy of a slice from a DataFrame.\n",
            "Try using .loc[row_indexer,col_indexer] = value instead\n",
            "\n",
            "See the caveats in the documentation: https://pandas.pydata.org/pandas-docs/stable/user_guide/indexing.html#returning-a-view-versus-a-copy\n",
            "  \n"
          ],
          "name": "stderr"
        }
      ]
    },
    {
      "cell_type": "code",
      "metadata": {
        "id": "E160xubzpqxb",
        "colab_type": "code",
        "colab": {
          "base_uri": "https://localhost:8080/",
          "height": 486
        },
        "outputId": "8cd5b7ac-5276-4d0f-802f-645f0f0ae8bb"
      },
      "source": [
        "train.INDIA.plot(figsize = (19,10),legend = True, label = 'Training Data')\n",
        "test['WMA_prediction'].plot(figsize = (19,10),legend = True, label = 'Prediction')\n",
        "train.wma.plot(figsize = (19,10),legend = True, label = 'Smoothened Data')\n",
        "test['INDIA'].plot(figsize = (19,10),legend = True, label = 'test Data')"
      ],
      "execution_count": 233,
      "outputs": [
        {
          "output_type": "execute_result",
          "data": {
            "text/plain": [
              "<matplotlib.axes._subplots.AxesSubplot at 0x7fbb0a1d0860>"
            ]
          },
          "metadata": {
            "tags": []
          },
          "execution_count": 233
        },
        {
          "output_type": "display_data",
          "data": {
            "image/png": "[encoded data removed]",
            "text/plain": [
              "<Figure size 1368x720 with 1 Axes>"
            ]
          },
          "metadata": {
            "tags": []
          }
        }
      ]
    },
    {
      "cell_type": "markdown",
      "metadata": {
        "id": "YWnrlMMMXcbX",
        "colab_type": "text"
      },
      "source": [
        "so,we did forcast with expoential smoothing and in its plot we see there is general direction of the future stock is quite similar to moving average plot.so me need to check the mean absolute error(MAE)."
      ]
    },
    {
      "cell_type": "code",
      "metadata": {
        "id": "n4ys6yQ468fu",
        "colab_type": "code",
        "colab": {
          "base_uri": "https://localhost:8080/",
          "height": 1000
        },
        "outputId": "64993725-6bcb-4816-a2e9-267568c90125"
      },
      "source": [
        "test"
      ],
      "execution_count": 308,
      "outputs": [
        {
          "output_type": "execute_result",
          "data": {
            "text/html": [
              "<div>\n",
              "<style scoped>\n",
              "    .dataframe tbody tr th:only-of-type {\n",
              "        vertical-align: middle;\n",
              "    }\n",
              "\n",
              "    .dataframe tbody tr th {\n",
              "        vertical-align: top;\n",
              "    }\n",
              "\n",
              "    .dataframe thead th {\n",
              "        text-align: right;\n",
              "    }\n",
              "</style>\n",
              "<table border=\"1\" class=\"dataframe\">\n",
              "  <thead>\n",
              "    <tr style=\"text-align: right;\">\n",
              "      <th></th>\n",
              "      <th>INDIA</th>\n",
              "      <th>SMA_prediction</th>\n",
              "      <th>WMA_prediction</th>\n",
              "    </tr>\n",
              "    <tr>\n",
              "      <th>DATE</th>\n",
              "      <th></th>\n",
              "      <th></th>\n",
              "      <th></th>\n",
              "    </tr>\n",
              "  </thead>\n",
              "  <tbody>\n",
              "    <tr>\n",
              "      <th>2019-12-01</th>\n",
              "      <td>71.683333</td>\n",
              "      <td>71.473611</td>\n",
              "      <td>71.473419</td>\n",
              "    </tr>\n",
              "    <tr>\n",
              "      <th>2019-12-02</th>\n",
              "      <td>71.650000</td>\n",
              "      <td>71.493231</td>\n",
              "      <td>71.494787</td>\n",
              "    </tr>\n",
              "    <tr>\n",
              "      <th>2019-12-03</th>\n",
              "      <td>71.700000</td>\n",
              "      <td>71.517506</td>\n",
              "      <td>71.518253</td>\n",
              "    </tr>\n",
              "    <tr>\n",
              "      <th>2019-12-04</th>\n",
              "      <td>71.470000</td>\n",
              "      <td>71.542256</td>\n",
              "      <td>71.542742</td>\n",
              "    </tr>\n",
              "    <tr>\n",
              "      <th>2019-12-05</th>\n",
              "      <td>71.260000</td>\n",
              "      <td>71.567498</td>\n",
              "      <td>71.567904</td>\n",
              "    </tr>\n",
              "    <tr>\n",
              "      <th>2019-12-06</th>\n",
              "      <td>71.260000</td>\n",
              "      <td>71.593081</td>\n",
              "      <td>71.593413</td>\n",
              "    </tr>\n",
              "    <tr>\n",
              "      <th>2019-12-07</th>\n",
              "      <td>71.180000</td>\n",
              "      <td>71.616684</td>\n",
              "      <td>71.616276</td>\n",
              "    </tr>\n",
              "    <tr>\n",
              "      <th>2019-12-08</th>\n",
              "      <td>71.100000</td>\n",
              "      <td>71.637240</td>\n",
              "      <td>71.636957</td>\n",
              "    </tr>\n",
              "    <tr>\n",
              "      <th>2019-12-09</th>\n",
              "      <td>71.020000</td>\n",
              "      <td>71.651981</td>\n",
              "      <td>71.650457</td>\n",
              "    </tr>\n",
              "    <tr>\n",
              "      <th>2019-12-10</th>\n",
              "      <td>70.840000</td>\n",
              "      <td>71.660936</td>\n",
              "      <td>71.660303</td>\n",
              "    </tr>\n",
              "    <tr>\n",
              "      <th>2019-12-11</th>\n",
              "      <td>70.730000</td>\n",
              "      <td>71.667968</td>\n",
              "      <td>71.667626</td>\n",
              "    </tr>\n",
              "    <tr>\n",
              "      <th>2019-12-12</th>\n",
              "      <td>70.620000</td>\n",
              "      <td>71.673011</td>\n",
              "      <td>71.672763</td>\n",
              "    </tr>\n",
              "    <tr>\n",
              "      <th>2019-12-13</th>\n",
              "      <td>70.800000</td>\n",
              "      <td>71.673778</td>\n",
              "      <td>71.672816</td>\n",
              "    </tr>\n",
              "    <tr>\n",
              "      <th>2019-12-14</th>\n",
              "      <td>70.830000</td>\n",
              "      <td>71.665070</td>\n",
              "      <td>71.662897</td>\n",
              "    </tr>\n",
              "    <tr>\n",
              "      <th>2019-12-15</th>\n",
              "      <td>70.860000</td>\n",
              "      <td>71.652073</td>\n",
              "      <td>71.652211</td>\n",
              "    </tr>\n",
              "    <tr>\n",
              "      <th>2019-12-16</th>\n",
              "      <td>70.890000</td>\n",
              "      <td>71.647309</td>\n",
              "      <td>71.649691</td>\n",
              "    </tr>\n",
              "    <tr>\n",
              "      <th>2019-12-17</th>\n",
              "      <td>71.040000</td>\n",
              "      <td>71.647219</td>\n",
              "      <td>71.647705</td>\n",
              "    </tr>\n",
              "    <tr>\n",
              "      <th>2019-12-18</th>\n",
              "      <td>70.970000</td>\n",
              "      <td>71.643793</td>\n",
              "      <td>71.643636</td>\n",
              "    </tr>\n",
              "    <tr>\n",
              "      <th>2019-12-19</th>\n",
              "      <td>71.110000</td>\n",
              "      <td>71.636919</td>\n",
              "      <td>71.636538</td>\n",
              "    </tr>\n",
              "    <tr>\n",
              "      <th>2019-12-20</th>\n",
              "      <td>71.070000</td>\n",
              "      <td>71.628817</td>\n",
              "      <td>71.629127</td>\n",
              "    </tr>\n",
              "    <tr>\n",
              "      <th>2019-12-21</th>\n",
              "      <td>71.126667</td>\n",
              "      <td>71.623110</td>\n",
              "      <td>71.624111</td>\n",
              "    </tr>\n",
              "    <tr>\n",
              "      <th>2019-12-22</th>\n",
              "      <td>71.183333</td>\n",
              "      <td>71.619047</td>\n",
              "      <td>71.619585</td>\n",
              "    </tr>\n",
              "    <tr>\n",
              "      <th>2019-12-23</th>\n",
              "      <td>71.240000</td>\n",
              "      <td>71.614516</td>\n",
              "      <td>71.614906</td>\n",
              "    </tr>\n",
              "    <tr>\n",
              "      <th>2019-12-24</th>\n",
              "      <td>71.230000</td>\n",
              "      <td>71.610055</td>\n",
              "      <td>71.610589</td>\n",
              "    </tr>\n",
              "    <tr>\n",
              "      <th>2019-12-25</th>\n",
              "      <td>71.255000</td>\n",
              "      <td>71.606224</td>\n",
              "      <td>71.606818</td>\n",
              "    </tr>\n",
              "    <tr>\n",
              "      <th>2019-12-26</th>\n",
              "      <td>71.280000</td>\n",
              "      <td>71.603042</td>\n",
              "      <td>71.603671</td>\n",
              "    </tr>\n",
              "    <tr>\n",
              "      <th>2019-12-27</th>\n",
              "      <td>71.450000</td>\n",
              "      <td>71.603144</td>\n",
              "      <td>71.604669</td>\n",
              "    </tr>\n",
              "    <tr>\n",
              "      <th>2019-12-28</th>\n",
              "      <td>71.400000</td>\n",
              "      <td>71.610415</td>\n",
              "      <td>71.612672</td>\n",
              "    </tr>\n",
              "    <tr>\n",
              "      <th>2019-12-29</th>\n",
              "      <td>71.350000</td>\n",
              "      <td>71.618012</td>\n",
              "      <td>71.617821</td>\n",
              "    </tr>\n",
              "    <tr>\n",
              "      <th>2019-12-30</th>\n",
              "      <td>71.300000</td>\n",
              "      <td>71.617696</td>\n",
              "      <td>71.616657</td>\n",
              "    </tr>\n",
              "    <tr>\n",
              "      <th>2019-12-31</th>\n",
              "      <td>71.360000</td>\n",
              "      <td>71.613841</td>\n",
              "      <td>71.614034</td>\n",
              "    </tr>\n",
              "  </tbody>\n",
              "</table>\n",
              "</div>"
            ],
            "text/plain": [
              "                INDIA  SMA_prediction  WMA_prediction\n",
              "DATE                                                 \n",
              "2019-12-01  71.683333       71.473611       71.473419\n",
              "2019-12-02  71.650000       71.493231       71.494787\n",
              "2019-12-03  71.700000       71.517506       71.518253\n",
              "2019-12-04  71.470000       71.542256       71.542742\n",
              "2019-12-05  71.260000       71.567498       71.567904\n",
              "2019-12-06  71.260000       71.593081       71.593413\n",
              "2019-12-07  71.180000       71.616684       71.616276\n",
              "2019-12-08  71.100000       71.637240       71.636957\n",
              "2019-12-09  71.020000       71.651981       71.650457\n",
              "2019-12-10  70.840000       71.660936       71.660303\n",
              "2019-12-11  70.730000       71.667968       71.667626\n",
              "2019-12-12  70.620000       71.673011       71.672763\n",
              "2019-12-13  70.800000       71.673778       71.672816\n",
              "2019-12-14  70.830000       71.665070       71.662897\n",
              "2019-12-15  70.860000       71.652073       71.652211\n",
              "2019-12-16  70.890000       71.647309       71.649691\n",
              "2019-12-17  71.040000       71.647219       71.647705\n",
              "2019-12-18  70.970000       71.643793       71.643636\n",
              "2019-12-19  71.110000       71.636919       71.636538\n",
              "2019-12-20  71.070000       71.628817       71.629127\n",
              "2019-12-21  71.126667       71.623110       71.624111\n",
              "2019-12-22  71.183333       71.619047       71.619585\n",
              "2019-12-23  71.240000       71.614516       71.614906\n",
              "2019-12-24  71.230000       71.610055       71.610589\n",
              "2019-12-25  71.255000       71.606224       71.606818\n",
              "2019-12-26  71.280000       71.603042       71.603671\n",
              "2019-12-27  71.450000       71.603144       71.604669\n",
              "2019-12-28  71.400000       71.610415       71.612672\n",
              "2019-12-29  71.350000       71.618012       71.617821\n",
              "2019-12-30  71.300000       71.617696       71.616657\n",
              "2019-12-31  71.360000       71.613841       71.614034"
            ]
          },
          "metadata": {
            "tags": []
          },
          "execution_count": 308
        }
      ]
    },
    {
      "cell_type": "code",
      "metadata": {
        "id": "FXUHrC1AqA4o",
        "colab_type": "code",
        "colab": {
          "base_uri": "https://localhost:8080/",
          "height": 34
        },
        "outputId": "1ff4a8e6-3112-4463-d25a-e88019405c17"
      },
      "source": [
        "get_mape(test.INDIA,test['WMA_prediction'])"
      ],
      "execution_count": 235,
      "outputs": [
        {
          "output_type": "execute_result",
          "data": {
            "text/plain": [
              "0.68"
            ]
          },
          "metadata": {
            "tags": []
          },
          "execution_count": 235
        }
      ]
    },
    {
      "cell_type": "code",
      "metadata": {
        "id": "qrTPGaOW9S9_",
        "colab_type": "code",
        "outputId": "69af6476-cf65-4022-bd32-1176d9565365",
        "colab": {
          "base_uri": "https://localhost:8080/",
          "height": 34
        }
      },
      "source": [
        "print(np.sqrt(mean_squared_error(test.INDIA,test['WMA_prediction'])))"
      ],
      "execution_count": 234,
      "outputs": [
        {
          "output_type": "stream",
          "text": [
            "0.5441636046916125\n"
          ],
          "name": "stdout"
        }
      ]
    },
    {
      "cell_type": "markdown",
      "metadata": {
        "id": "nBDLFzZ5Ya6N",
        "colab_type": "text"
      },
      "source": [
        "so, MAE is **0.68** is same and RSME is quite small **0.5441636046916125**"
      ]
    },
    {
      "cell_type": "markdown",
      "metadata": {
        "id": "s6lQ0G7HZDIP",
        "colab_type": "text"
      },
      "source": [
        "**ACF**"
      ]
    },
    {
      "cell_type": "code",
      "metadata": {
        "id": "V5guHRUcZCLV",
        "colab_type": "code",
        "outputId": "3bbc878c-cc02-4200-823e-a54b24457e02",
        "colab": {
          "base_uri": "https://localhost:8080/",
          "height": 284
        }
      },
      "source": [
        "acf_plot = plot_acf( unidf.INDIA,lags=20)\n",
        "# Significant coorelation between lags "
      ],
      "execution_count": 69,
      "outputs": [
        {
          "output_type": "display_data",
          "data": {
            "image/png": "[encoded data removed]",
            "text/plain": [
              "<Figure size 432x288 with 1 Axes>"
            ]
          },
          "metadata": {
            "tags": []
          }
        }
      ]
    },
    {
      "cell_type": "code",
      "metadata": {
        "id": "ASs58f1km1am",
        "colab_type": "code",
        "outputId": "363f6f71-2cb6-4607-9849-fca223061cd9",
        "colab": {
          "base_uri": "https://localhost:8080/",
          "height": 284
        }
      },
      "source": [
        "#1st Order Differencing\n",
        "acf_plot=plot_acf(unidf.INDIA.diff().dropna())"
      ],
      "execution_count": 70,
      "outputs": [
        {
          "output_type": "display_data",
          "data": {
            "image/png": "[encoded data removed]",
            "text/plain": [
              "<Figure size 432x288 with 1 Axes>"
            ]
          },
          "metadata": {
            "tags": []
          }
        }
      ]
    },
    {
      "cell_type": "markdown",
      "metadata": {
        "id": "azVxHYFinZv5",
        "colab_type": "text"
      },
      "source": [
        "One lag can be found above the significance level and thus q = 1."
      ]
    },
    {
      "cell_type": "code",
      "metadata": {
        "id": "vZM3fYIgqF56",
        "colab_type": "code",
        "outputId": "808d5909-b0e4-4cc2-b9e4-8aa37803669b",
        "colab": {
          "base_uri": "https://localhost:8080/",
          "height": 284
        }
      },
      "source": [
        "#2nd Order Differencing\n",
        "acf_plot = plot_acf(unidf.INDIA.diff().diff().dropna())"
      ],
      "execution_count": 71,
      "outputs": [
        {
          "output_type": "display_data",
          "data": {
            "image/png": "[encoded data removed]",
            "text/plain": [
              "<Figure size 432x288 with 1 Axes>"
            ]
          },
          "metadata": {
            "tags": []
          }
        }
      ]
    },
    {
      "cell_type": "markdown",
      "metadata": {
        "id": "ED4V5nvlq-u0",
        "colab_type": "text"
      },
      "source": [
        "The timeseries is stationary at d = 1 where only the first lag is above the significance level"
      ]
    },
    {
      "cell_type": "code",
      "metadata": {
        "id": "D4KMXf0vZTsr",
        "colab_type": "code",
        "outputId": "36d9b8b7-65f6-4fdd-e61d-a79a97173359",
        "colab": {
          "base_uri": "https://localhost:8080/",
          "height": 284
        }
      },
      "source": [
        "# No significant pattern in pacf\n",
        "pacf_plot = plot_pacf( unidf.INDIA,lags=20 )"
      ],
      "execution_count": 72,
      "outputs": [
        {
          "output_type": "display_data",
          "data": {
            "image/png": "[encoded data removed]",
            "text/plain": [
              "<Figure size 432x288 with 1 Axes>"
            ]
          },
          "metadata": {
            "tags": []
          }
        }
      ]
    },
    {
      "cell_type": "markdown",
      "metadata": {
        "id": "HaibCRiflGwD",
        "colab_type": "text"
      },
      "source": [
        "The first two lags are the one vastly above the signicance level and so p = 2."
      ]
    },
    {
      "cell_type": "markdown",
      "metadata": {
        "id": "oveag0yon3TD",
        "colab_type": "text"
      },
      "source": [
        "ARIMA stands for Autoregressive Integrated Moving Average and it depends on three key variables p, d, q to be successful\n",
        "p = number of lags / order of AR terms\n",
        "d = order of differencing\n",
        "q = number of lagged forecast errors / order of MA terms"
      ]
    },
    {
      "cell_type": "markdown",
      "metadata": {
        "id": "lwWMS2AirJnT",
        "colab_type": "text"
      },
      "source": [
        "**Auto regressive model**"
      ]
    },
    {
      "cell_type": "code",
      "metadata": {
        "id": "EN1PRrqvpuCb",
        "colab_type": "code",
        "outputId": "85d6f574-ffb4-4576-c2ea-7b353e457a2f",
        "colab": {
          "base_uri": "https://localhost:8080/",
          "height": 413
        }
      },
      "source": [
        "from statsmodels.tsa.arima_model import ARIMA\n",
        "arima = ARIMA(unidf.INDIA[0:], order = (2,0,0))\n",
        "ar_model = arima.fit()\n",
        "ar_model.summary2()"
      ],
      "execution_count": 73,
      "outputs": [
        {
          "output_type": "stream",
          "text": [
            "/usr/local/lib/python3.6/dist-packages/statsmodels/tsa/base/tsa_model.py:165: ValueWarning: No frequency information was provided, so inferred frequency D will be used.\n",
            "  % freq, ValueWarning)\n"
          ],
          "name": "stderr"
        },
        {
          "output_type": "execute_result",
          "data": {
            "text/html": [
              "<table class=\"simpletable\">\n",
              "<tr>\n",
              "        <td>Model:</td>              <td>ARMA</td>               <td>BIC:</td>         <td>-4409.1919</td>\n",
              "</tr>\n",
              "<tr>\n",
              "  <td>Dependent Variable:</td>       <td>INDIA</td>         <td>Log-Likelihood:</td>     <td>2222.4</td>  \n",
              "</tr>\n",
              "<tr>\n",
              "         <td>Date:</td>        <td>2020-05-01 06:20</td>        <td>Scale:</td>          <td>1.0000</td>  \n",
              "</tr>\n",
              "<tr>\n",
              "   <td>No. Observations:</td>        <td>7303</td>              <td>Method:</td>         <td>css-mle</td> \n",
              "</tr>\n",
              "<tr>\n",
              "       <td>Df Model:</td>              <td>3</td>               <td>Sample:</td>       <td>01-03-2000</td>\n",
              "</tr>\n",
              "<tr>\n",
              "     <td>Df Residuals:</td>          <td>7300</td>                 <td></td>           <td>12-31-2019</td>\n",
              "</tr>\n",
              "<tr>\n",
              "      <td>Converged:</td>           <td>1.0000</td>      <td>S.D. of innovations:</td>    <td>0.178</td>  \n",
              "</tr>\n",
              "<tr>\n",
              "    <td>No. Iterations:</td>        <td>30.0000</td>             <td>HQIC:</td>         <td>-4427.291</td>\n",
              "</tr>\n",
              "<tr>\n",
              "         <td>AIC:</td>            <td>-4436.7760</td>              <td></td>                <td></td>     \n",
              "</tr>\n",
              "</table>\n",
              "<table class=\"simpletable\">\n",
              "<tr>\n",
              "       <td></td>        <th>Coef.</th>  <th>Std.Err.</th>     <th>t</th>     <th>P>|t|</th> <th>[0.025</th>  <th>0.975]</th> \n",
              "</tr>\n",
              "<tr>\n",
              "  <th>const</th>       <td>56.0561</td>  <td>10.4634</td>  <td>5.3573</td>  <td>0.0000</td> <td>35.5482</td> <td>76.5641</td>\n",
              "</tr>\n",
              "<tr>\n",
              "  <th>ar.L1.INDIA</th> <td>1.0540</td>   <td>0.0019</td>  <td>566.2197</td> <td>0.0000</td> <td>1.0504</td>  <td>1.0577</td> \n",
              "</tr>\n",
              "<tr>\n",
              "  <th>ar.L2.INDIA</th> <td>-0.0541</td>  <td>0.0019</td>  <td>-29.0696</td> <td>0.0000</td> <td>-0.0578</td> <td>-0.0505</td>\n",
              "</tr>\n",
              "</table>\n",
              "<table class=\"simpletable\">\n",
              "<tr>\n",
              "    <td></td>    <th>Real</th>   <th>Imaginary</th> <th>Modulus</th> <th>Frequency</th>\n",
              "</tr>\n",
              "<tr>\n",
              "  <th>AR.1</th> <td>1.0001</td>   <td>0.0000</td>   <td>1.0001</td>   <td>0.0000</td>  \n",
              "</tr>\n",
              "<tr>\n",
              "  <th>AR.2</th> <td>18.4762</td>  <td>0.0000</td>   <td>18.4762</td>  <td>0.0000</td>  \n",
              "</tr>\n",
              "</table>"
            ],
            "text/plain": [
              "<class 'statsmodels.iolib.summary2.Summary'>\n",
              "\"\"\"\n",
              "                           Results: ARMA\n",
              "====================================================================\n",
              "Model:              ARMA             BIC:                 -4409.1919\n",
              "Dependent Variable: INDIA            Log-Likelihood:      2222.4    \n",
              "Date:               2020-05-01 06:20 Scale:               1.0000    \n",
              "No. Observations:   7303             Method:              css-mle   \n",
              "Df Model:           3                Sample:              01-03-2000\n",
              "Df Residuals:       7300                                  12-31-2019\n",
              "Converged:          1.0000           S.D. of innovations: 0.178     \n",
              "No. Iterations:     30.0000          HQIC:                -4427.291 \n",
              "AIC:                -4436.7760                                      \n",
              "---------------------------------------------------------------------\n",
              "                 Coef.   Std.Err.     t      P>|t|    [0.025   0.975]\n",
              "---------------------------------------------------------------------\n",
              "const           56.0561   10.4634    5.3573  0.0000  35.5482  76.5641\n",
              "ar.L1.INDIA      1.0540    0.0019  566.2197  0.0000   1.0504   1.0577\n",
              "ar.L2.INDIA     -0.0541    0.0019  -29.0696  0.0000  -0.0578  -0.0505\n",
              "-----------------------------------------------------------------------------\n",
              "                 Real           Imaginary          Modulus          Frequency\n",
              "-----------------------------------------------------------------------------\n",
              "AR.1            1.0001             0.0000           1.0001             0.0000\n",
              "AR.2           18.4762             0.0000          18.4762             0.0000\n",
              "====================================================================\n",
              "\n",
              "\"\"\""
            ]
          },
          "metadata": {
            "tags": []
          },
          "execution_count": 73
        }
      ]
    },
    {
      "cell_type": "code",
      "metadata": {
        "id": "Vhc89b_VuLSy",
        "colab_type": "code",
        "outputId": "873f21d2-890e-4725-846f-73fd18524cce",
        "colab": {
          "base_uri": "https://localhost:8080/",
          "height": 519
        }
      },
      "source": [
        "ar_model.plot_predict(1, 9000)"
      ],
      "execution_count": 74,
      "outputs": [
        {
          "output_type": "execute_result",
          "data": {
            "image/png": "[encoded data removed]",
            "text/plain": [
              "<Figure size 432x288 with 1 Axes>"
            ]
          },
          "metadata": {
            "tags": []
          },
          "execution_count": 74
        },
        {
          "output_type": "display_data",
          "data": {
            "image/png": "[encoded data removed]",
            "text/plain": [
              "<Figure size 432x288 with 1 Axes>"
            ]
          },
          "metadata": {
            "tags": []
          }
        }
      ]
    },
    {
      "cell_type": "markdown",
      "metadata": {
        "id": "64n1F3N8ue10",
        "colab_type": "text"
      },
      "source": [
        "Akaike information criterion (AIC) estimates the relative amount of information lost by a given model. The less the better.\n"
      ]
    },
    {
      "cell_type": "code",
      "metadata": {
        "id": "LDKHKIBIqlKo",
        "colab_type": "code",
        "outputId": "0e31f999-29a2-4454-d2ac-6b4d3ba5d471",
        "colab": {
          "base_uri": "https://localhost:8080/",
          "height": 34
        }
      },
      "source": [
        "forecast_ar = ar_model.predict(5000)\n",
        "get_mape( unidf.INDIA[5000:],forecast_ar )"
      ],
      "execution_count": 75,
      "outputs": [
        {
          "output_type": "execute_result",
          "data": {
            "text/plain": [
              "0.19"
            ]
          },
          "metadata": {
            "tags": []
          },
          "execution_count": 75
        }
      ]
    },
    {
      "cell_type": "markdown",
      "metadata": {
        "id": "w7_6n8mSrT8k",
        "colab_type": "text"
      },
      "source": [
        "**Moving average model**"
      ]
    },
    {
      "cell_type": "code",
      "metadata": {
        "id": "mVLaehhzr9c8",
        "colab_type": "code",
        "outputId": "2a615c99-641c-47e1-cf8d-fce7577c162b",
        "colab": {
          "base_uri": "https://localhost:8080/",
          "height": 371
        }
      },
      "source": [
        "arima = ARIMA(unidf.INDIA[0:7303], order = (0,0,1))\n",
        "ma_model = arima.fit()\n",
        "ma_model.summary2()"
      ],
      "execution_count": 76,
      "outputs": [
        {
          "output_type": "stream",
          "text": [
            "/usr/local/lib/python3.6/dist-packages/statsmodels/tsa/base/tsa_model.py:165: ValueWarning: No frequency information was provided, so inferred frequency D will be used.\n",
            "  % freq, ValueWarning)\n"
          ],
          "name": "stderr"
        },
        {
          "output_type": "execute_result",
          "data": {
            "text/html": [
              "<table class=\"simpletable\">\n",
              "<tr>\n",
              "        <td>Model:</td>              <td>ARMA</td>               <td>BIC:</td>         <td>43974.1400</td>\n",
              "</tr>\n",
              "<tr>\n",
              "  <td>Dependent Variable:</td>       <td>INDIA</td>         <td>Log-Likelihood:</td>     <td>-21974.</td> \n",
              "</tr>\n",
              "<tr>\n",
              "         <td>Date:</td>        <td>2020-05-01 06:20</td>        <td>Scale:</td>          <td>1.0000</td>  \n",
              "</tr>\n",
              "<tr>\n",
              "   <td>No. Observations:</td>        <td>7303</td>              <td>Method:</td>         <td>css-mle</td> \n",
              "</tr>\n",
              "<tr>\n",
              "       <td>Df Model:</td>              <td>2</td>               <td>Sample:</td>       <td>01-03-2000</td>\n",
              "</tr>\n",
              "<tr>\n",
              "     <td>Df Residuals:</td>          <td>7301</td>                 <td></td>           <td>12-31-2019</td>\n",
              "</tr>\n",
              "<tr>\n",
              "      <td>Converged:</td>           <td>1.0000</td>      <td>S.D. of innovations:</td>    <td>4.902</td>  \n",
              "</tr>\n",
              "<tr>\n",
              "    <td>No. Iterations:</td>        <td>5.0000</td>              <td>HQIC:</td>         <td>43960.566</td>\n",
              "</tr>\n",
              "<tr>\n",
              "         <td>AIC:</td>            <td>43953.4519</td>              <td></td>                <td></td>     \n",
              "</tr>\n",
              "</table>\n",
              "<table class=\"simpletable\">\n",
              "<tr>\n",
              "       <td></td>        <th>Coef.</th>  <th>Std.Err.</th>     <th>t</th>     <th>P>|t|</th> <th>[0.025</th>  <th>0.975]</th> \n",
              "</tr>\n",
              "<tr>\n",
              "  <th>const</th>       <td>52.7614</td>  <td>0.1141</td>  <td>462.2993</td> <td>0.0000</td> <td>52.5378</td> <td>52.9851</td>\n",
              "</tr>\n",
              "<tr>\n",
              "  <th>ma.L1.INDIA</th> <td>0.9897</td>   <td>0.0013</td>  <td>778.6516</td> <td>0.0000</td> <td>0.9872</td>  <td>0.9922</td> \n",
              "</tr>\n",
              "</table>\n",
              "<table class=\"simpletable\">\n",
              "<tr>\n",
              "    <td></td>    <th>Real</th>   <th>Imaginary</th> <th>Modulus</th> <th>Frequency</th>\n",
              "</tr>\n",
              "<tr>\n",
              "  <th>MA.1</th> <td>-1.0104</td>  <td>0.0000</td>   <td>1.0104</td>   <td>0.5000</td>  \n",
              "</tr>\n",
              "</table>"
            ],
            "text/plain": [
              "<class 'statsmodels.iolib.summary2.Summary'>\n",
              "\"\"\"\n",
              "                           Results: ARMA\n",
              "====================================================================\n",
              "Model:              ARMA             BIC:                 43974.1400\n",
              "Dependent Variable: INDIA            Log-Likelihood:      -21974.   \n",
              "Date:               2020-05-01 06:20 Scale:               1.0000    \n",
              "No. Observations:   7303             Method:              css-mle   \n",
              "Df Model:           2                Sample:              01-03-2000\n",
              "Df Residuals:       7301                                  12-31-2019\n",
              "Converged:          1.0000           S.D. of innovations: 4.902     \n",
              "No. Iterations:     5.0000           HQIC:                43960.566 \n",
              "AIC:                43953.4519                                      \n",
              "---------------------------------------------------------------------\n",
              "                 Coef.   Std.Err.     t      P>|t|    [0.025   0.975]\n",
              "---------------------------------------------------------------------\n",
              "const           52.7614    0.1141  462.2993  0.0000  52.5378  52.9851\n",
              "ma.L1.INDIA      0.9897    0.0013  778.6516  0.0000   0.9872   0.9922\n",
              "-----------------------------------------------------------------------------\n",
              "                 Real           Imaginary          Modulus          Frequency\n",
              "-----------------------------------------------------------------------------\n",
              "MA.1           -1.0104             0.0000           1.0104             0.5000\n",
              "====================================================================\n",
              "\n",
              "\"\"\""
            ]
          },
          "metadata": {
            "tags": []
          },
          "execution_count": 76
        }
      ]
    },
    {
      "cell_type": "code",
      "metadata": {
        "id": "9il3Vd_Wt9Et",
        "colab_type": "code",
        "outputId": "66dbe407-c43f-42d1-c2c2-2edbdcecd0aa",
        "colab": {
          "base_uri": "https://localhost:8080/",
          "height": 519
        }
      },
      "source": [
        "ma_model.plot_predict(1, 9000)"
      ],
      "execution_count": 77,
      "outputs": [
        {
          "output_type": "execute_result",
          "data": {
            "image/png": "[encoded data removed]",
            "text/plain": [
              "<Figure size 432x288 with 1 Axes>"
            ]
          },
          "metadata": {
            "tags": []
          },
          "execution_count": 77
        },
        {
          "output_type": "display_data",
          "data": {
            "image/png": "[encoded data removed]",
            "text/plain": [
              "<Figure size 432x288 with 1 Axes>"
            ]
          },
          "metadata": {
            "tags": []
          }
        }
      ]
    },
    {
      "cell_type": "code",
      "metadata": {
        "id": "uoTPyeCGsHBb",
        "colab_type": "code",
        "outputId": "d04b28f3-f846-40ff-bb04-248becc0369e",
        "colab": {
          "base_uri": "https://localhost:8080/",
          "height": 34
        }
      },
      "source": [
        "forecast_ma = ma_model.predict(5000)\n",
        "get_mape( unidf.INDIA[5000:],forecast_ma )"
      ],
      "execution_count": 78,
      "outputs": [
        {
          "output_type": "execute_result",
          "data": {
            "text/plain": [
              "9.87"
            ]
          },
          "metadata": {
            "tags": []
          },
          "execution_count": 78
        }
      ]
    },
    {
      "cell_type": "markdown",
      "metadata": {
        "id": "KoWJIscir1yq",
        "colab_type": "text"
      },
      "source": [
        "**ARIMA model**"
      ]
    },
    {
      "cell_type": "code",
      "metadata": {
        "id": "Etrol2wAsWYz",
        "colab_type": "code",
        "outputId": "31021d30-908f-4d2c-b577-1c5ea9bb6d7b",
        "colab": {
          "base_uri": "https://localhost:8080/",
          "height": 489
        }
      },
      "source": [
        "from statsmodels.tsa.arima_model import ARIMA\n",
        "model = ARIMA(train.INDIA, order=(2, 1, 1))\n",
        "arima_model = model.fit()\n",
        "arima_model.summary2()\n"
      ],
      "execution_count": 259,
      "outputs": [
        {
          "output_type": "stream",
          "text": [
            "/usr/local/lib/python3.6/dist-packages/statsmodels/tsa/base/tsa_model.py:165: ValueWarning: No frequency information was provided, so inferred frequency D will be used.\n",
            "  % freq, ValueWarning)\n",
            "/usr/local/lib/python3.6/dist-packages/statsmodels/tsa/base/tsa_model.py:165: ValueWarning: No frequency information was provided, so inferred frequency D will be used.\n",
            "  % freq, ValueWarning)\n"
          ],
          "name": "stderr"
        },
        {
          "output_type": "execute_result",
          "data": {
            "text/html": [
              "<table class=\"simpletable\">\n",
              "<tr>\n",
              "        <td>Model:</td>              <td>ARIMA</td>              <td>BIC:</td>         <td>-4380.9950</td>\n",
              "</tr>\n",
              "<tr>\n",
              "  <td>Dependent Variable:</td>      <td>D.INDIA</td>        <td>Log-Likelihood:</td>     <td>2212.7</td>  \n",
              "</tr>\n",
              "<tr>\n",
              "         <td>Date:</td>        <td>2020-05-01 10:16</td>        <td>Scale:</td>          <td>1.0000</td>  \n",
              "</tr>\n",
              "<tr>\n",
              "   <td>No. Observations:</td>        <td>7271</td>              <td>Method:</td>         <td>css-mle</td> \n",
              "</tr>\n",
              "<tr>\n",
              "       <td>Df Model:</td>              <td>4</td>               <td>Sample:</td>       <td>01-04-2000</td>\n",
              "</tr>\n",
              "<tr>\n",
              "     <td>Df Residuals:</td>          <td>7267</td>                 <td></td>           <td>11-30-2019</td>\n",
              "</tr>\n",
              "<tr>\n",
              "      <td>Converged:</td>           <td>1.0000</td>      <td>S.D. of innovations:</td>    <td>0.178</td>  \n",
              "</tr>\n",
              "<tr>\n",
              "    <td>No. Iterations:</td>        <td>6.0000</td>              <td>HQIC:</td>         <td>-4403.602</td>\n",
              "</tr>\n",
              "<tr>\n",
              "         <td>AIC:</td>            <td>-4415.4532</td>              <td></td>                <td></td>     \n",
              "</tr>\n",
              "</table>\n",
              "<table class=\"simpletable\">\n",
              "<tr>\n",
              "        <td></td>         <th>Coef.</th>  <th>Std.Err.</th>    <th>t</th>     <th>P>|t|</th> <th>[0.025</th>  <th>0.975]</th> \n",
              "</tr>\n",
              "<tr>\n",
              "  <th>const</th>         <td>0.0039</td>   <td>0.0021</td>  <td>1.8322</td>  <td>0.0670</td> <td>-0.0003</td> <td>0.0080</td> \n",
              "</tr>\n",
              "<tr>\n",
              "  <th>ar.L1.D.INDIA</th> <td>0.2535</td>   <td>0.2328</td>  <td>1.0890</td>  <td>0.2762</td> <td>-0.2027</td> <td>0.7097</td> \n",
              "</tr>\n",
              "<tr>\n",
              "  <th>ar.L2.D.INDIA</th> <td>-0.0474</td>  <td>0.0158</td>  <td>-2.9950</td> <td>0.0028</td> <td>-0.0784</td> <td>-0.0164</td>\n",
              "</tr>\n",
              "<tr>\n",
              "  <th>ma.L1.D.INDIA</th> <td>-0.1984</td>  <td>0.2329</td>  <td>-0.8519</td> <td>0.3943</td> <td>-0.6549</td> <td>0.2581</td> \n",
              "</tr>\n",
              "</table>\n",
              "<table class=\"simpletable\">\n",
              "<tr>\n",
              "    <td></td>    <th>Real</th>  <th>Imaginary</th> <th>Modulus</th> <th>Frequency</th>\n",
              "</tr>\n",
              "<tr>\n",
              "  <th>AR.1</th> <td>2.6731</td>  <td>-3.7342</td>  <td>4.5924</td>   <td>-0.1511</td> \n",
              "</tr>\n",
              "<tr>\n",
              "  <th>AR.2</th> <td>2.6731</td>  <td>3.7342</td>   <td>4.5924</td>   <td>0.1511</td>  \n",
              "</tr>\n",
              "<tr>\n",
              "  <th>MA.1</th> <td>5.0400</td>  <td>0.0000</td>   <td>5.0400</td>   <td>0.0000</td>  \n",
              "</tr>\n",
              "</table>"
            ],
            "text/plain": [
              "<class 'statsmodels.iolib.summary2.Summary'>\n",
              "\"\"\"\n",
              "                           Results: ARIMA\n",
              "====================================================================\n",
              "Model:              ARIMA            BIC:                 -4380.9950\n",
              "Dependent Variable: D.INDIA          Log-Likelihood:      2212.7    \n",
              "Date:               2020-05-01 10:16 Scale:               1.0000    \n",
              "No. Observations:   7271             Method:              css-mle   \n",
              "Df Model:           4                Sample:              01-04-2000\n",
              "Df Residuals:       7267                                  11-30-2019\n",
              "Converged:          1.0000           S.D. of innovations: 0.178     \n",
              "No. Iterations:     6.0000           HQIC:                -4403.602 \n",
              "AIC:                -4415.4532                                      \n",
              "---------------------------------------------------------------------\n",
              "                  Coef.   Std.Err.     t     P>|t|    [0.025   0.975]\n",
              "---------------------------------------------------------------------\n",
              "const             0.0039    0.0021   1.8322  0.0670  -0.0003   0.0080\n",
              "ar.L1.D.INDIA     0.2535    0.2328   1.0890  0.2762  -0.2027   0.7097\n",
              "ar.L2.D.INDIA    -0.0474    0.0158  -2.9950  0.0028  -0.0784  -0.0164\n",
              "ma.L1.D.INDIA    -0.1984    0.2329  -0.8519  0.3943  -0.6549   0.2581\n",
              "-----------------------------------------------------------------------------\n",
              "                 Real           Imaginary          Modulus          Frequency\n",
              "-----------------------------------------------------------------------------\n",
              "AR.1            2.6731            -3.7342           4.5924            -0.1511\n",
              "AR.2            2.6731             3.7342           4.5924             0.1511\n",
              "MA.1            5.0400             0.0000           5.0400             0.0000\n",
              "====================================================================\n",
              "\n",
              "\"\"\""
            ]
          },
          "metadata": {
            "tags": []
          },
          "execution_count": 259
        }
      ]
    },
    {
      "cell_type": "code",
      "metadata": {
        "id": "W5uOGE3VtJUW",
        "colab_type": "code",
        "outputId": "674bccd4-adf2-4b17-f067-639e17e3c66e",
        "colab": {
          "base_uri": "https://localhost:8080/",
          "height": 519
        }
      },
      "source": [
        "arima_model.plot_predict(1, 10000)"
      ],
      "execution_count": 260,
      "outputs": [
        {
          "output_type": "execute_result",
          "data": {
            "image/png": "[encoded data removed]",
            "text/plain": [
              "<Figure size 432x288 with 1 Axes>"
            ]
          },
          "metadata": {
            "tags": []
          },
          "execution_count": 260
        },
        {
          "output_type": "display_data",
          "data": {
            "image/png": "[encoded data removed]",
            "text/plain": [
              "<Figure size 432x288 with 1 Axes>"
            ]
          },
          "metadata": {
            "tags": []
          }
        }
      ]
    },
    {
      "cell_type": "markdown",
      "metadata": {
        "id": "mbhAKTodvm-P",
        "colab_type": "text"
      },
      "source": [
        "with arima we tried to forecast a bigger range though this could be not totally acccurate it gives us range and directions pf the stocks with 95% confidence."
      ]
    },
    {
      "cell_type": "code",
      "metadata": {
        "id": "AKyCbVOPwzlH",
        "colab_type": "code",
        "colab": {}
      },
      "source": [
        "arima_model_prediction = arima_model.forecast(31)"
      ],
      "execution_count": 0,
      "outputs": []
    },
    {
      "cell_type": "markdown",
      "metadata": {
        "id": "ldnJYqF4an9f",
        "colab_type": "text"
      },
      "source": [
        "**Auto ARIMA**"
      ]
    },
    {
      "cell_type": "code",
      "metadata": {
        "id": "epFmkwfsVMIK",
        "colab_type": "code",
        "colab": {
          "base_uri": "https://localhost:8080/",
          "height": 1000
        },
        "outputId": "52e7dce3-3759-4feb-e63d-4bd37c4bc622"
      },
      "source": [
        "!pip install pmdarima\n",
        "from pmdarima import auto_arima # for determining ARIMA orders\n",
        "stepwise_fit = auto_arima(train.INDIA,m=12,\n",
        "                          seasonal=True,\n",
        "                          d=None, trace=True,\n",
        "                          error_action='ignore',   # we don't want to know if an order does not work\n",
        "                          suppress_warnings=True,  # we don't want convergence warnings\n",
        "                          stepwise=True)           # set to stepwise\n",
        "\n",
        "stepwise_fit.summary()"
      ],
      "execution_count": 212,
      "outputs": [
        {
          "output_type": "stream",
          "text": [
            "Collecting pmdarima\n",
            "\u001b[?25l  Downloading https://files.pythonhosted.org/packages/83/aa/feb76414043592c3149059ab772a51de03fbf7544a8e19237f229a50a949/pmdarima-1.5.3-cp36-cp36m-manylinux1_x86_64.whl (1.5MB)\n",
            "\u001b[K     |████████████████████████████████| 1.5MB 2.8MB/s \n",
            "\u001b[?25hRequirement already satisfied: Cython>=0.29 in /usr/local/lib/python3.6/dist-packages (from pmdarima) (0.29.17)\n",
            "Requirement already satisfied: numpy>=1.17.3 in /usr/local/lib/python3.6/dist-packages (from pmdarima) (1.18.3)\n",
            "Requirement already satisfied: pandas>=0.19 in /usr/local/lib/python3.6/dist-packages (from pmdarima) (1.0.3)\n",
            "Requirement already satisfied: scikit-learn>=0.22 in /usr/local/lib/python3.6/dist-packages (from pmdarima) (0.22.2.post1)\n",
            "Requirement already satisfied: statsmodels>=0.10.2 in /usr/local/lib/python3.6/dist-packages (from pmdarima) (0.10.2)\n",
            "Requirement already satisfied: scipy>=1.3.2 in /usr/local/lib/python3.6/dist-packages (from pmdarima) (1.4.1)\n",
            "Requirement already satisfied: urllib3 in /usr/local/lib/python3.6/dist-packages (from pmdarima) (1.24.3)\n",
            "Requirement already satisfied: joblib>=0.11 in /usr/local/lib/python3.6/dist-packages (from pmdarima) (0.14.1)\n",
            "Requirement already satisfied: python-dateutil>=2.6.1 in /usr/local/lib/python3.6/dist-packages (from pandas>=0.19->pmdarima) (2.8.1)\n",
            "Requirement already satisfied: pytz>=2017.2 in /usr/local/lib/python3.6/dist-packages (from pandas>=0.19->pmdarima) (2018.9)\n",
            "Requirement already satisfied: patsy>=0.4.0 in /usr/local/lib/python3.6/dist-packages (from statsmodels>=0.10.2->pmdarima) (0.5.1)\n",
            "Requirement already satisfied: six>=1.5 in /usr/local/lib/python3.6/dist-packages (from python-dateutil>=2.6.1->pandas>=0.19->pmdarima) (1.12.0)\n",
            "Installing collected packages: pmdarima\n",
            "Successfully installed pmdarima-1.5.3\n",
            "Performing stepwise search to minimize aic\n",
            "Fit ARIMA: (2, 1, 2)x(1, 0, 1, 12) (constant=True); AIC=-4128.959, BIC=-4074.634, Time=40.632 seconds\n",
            "Fit ARIMA: (0, 1, 0)x(0, 0, 0, 12) (constant=True); AIC=-4110.799, BIC=-4097.218, Time=0.477 seconds\n",
            "Fit ARIMA: (1, 1, 0)x(1, 0, 0, 12) (constant=True); AIC=-4126.666, BIC=-4099.504, Time=5.174 seconds\n",
            "Fit ARIMA: (0, 1, 1)x(0, 0, 1, 12) (constant=True); AIC=-4127.657, BIC=-4100.495, Time=6.737 seconds\n",
            "Fit ARIMA: (0, 1, 0)x(0, 0, 0, 12) (constant=False); AIC=-4110.824, BIC=-4104.034, Time=0.190 seconds\n",
            "Fit ARIMA: (2, 1, 2)x(0, 0, 1, 12) (constant=True); AIC=-4130.177, BIC=-4082.643, Time=31.942 seconds\n",
            "Fit ARIMA: (2, 1, 2)x(0, 0, 0, 12) (constant=True); AIC=-4124.122, BIC=-4083.378, Time=9.688 seconds\n",
            "Fit ARIMA: (2, 1, 2)x(0, 0, 2, 12) (constant=True); AIC=-4128.274, BIC=-4073.950, Time=96.127 seconds\n",
            "Fit ARIMA: (2, 1, 2)x(1, 0, 0, 12) (constant=True); AIC=-4130.098, BIC=-4082.564, Time=43.082 seconds\n",
            "Fit ARIMA: (2, 1, 2)x(1, 0, 2, 12) (constant=True); AIC=-4126.819, BIC=-4065.704, Time=89.514 seconds\n",
            "Fit ARIMA: (1, 1, 2)x(0, 0, 1, 12) (constant=True); AIC=-4132.136, BIC=-4091.393, Time=9.926 seconds\n",
            "Fit ARIMA: (1, 1, 2)x(0, 0, 0, 12) (constant=True); AIC=-4126.081, BIC=-4092.128, Time=1.806 seconds\n",
            "Fit ARIMA: (1, 1, 2)x(1, 0, 1, 12) (constant=True); AIC=-4130.949, BIC=-4083.415, Time=34.395 seconds\n",
            "Fit ARIMA: (1, 1, 2)x(0, 0, 2, 12) (constant=True); AIC=-4130.308, BIC=-4082.774, Time=26.308 seconds\n",
            "Fit ARIMA: (1, 1, 2)x(1, 0, 0, 12) (constant=True); AIC=-4132.056, BIC=-4091.312, Time=9.387 seconds\n",
            "Fit ARIMA: (1, 1, 2)x(1, 0, 2, 12) (constant=True); AIC=-4128.422, BIC=-4074.097, Time=26.430 seconds\n",
            "Fit ARIMA: (0, 1, 2)x(0, 0, 1, 12) (constant=True); AIC=-4133.901, BIC=-4099.948, Time=6.560 seconds\n",
            "Fit ARIMA: (0, 1, 2)x(0, 0, 0, 12) (constant=True); AIC=-4127.859, BIC=-4100.697, Time=1.665 seconds\n",
            "Fit ARIMA: (0, 1, 2)x(1, 0, 1, 12) (constant=True); AIC=-4132.761, BIC=-4092.017, Time=20.495 seconds\n",
            "Fit ARIMA: (0, 1, 2)x(0, 0, 2, 12) (constant=True); AIC=-4132.094, BIC=-4091.351, Time=23.388 seconds\n",
            "Fit ARIMA: (0, 1, 2)x(1, 0, 0, 12) (constant=True); AIC=-4133.815, BIC=-4099.863, Time=5.739 seconds\n",
            "Fit ARIMA: (0, 1, 2)x(1, 0, 2, 12) (constant=True); AIC=-4130.214, BIC=-4082.680, Time=73.094 seconds\n",
            "Fit ARIMA: (0, 1, 3)x(0, 0, 1, 12) (constant=True); AIC=-4132.088, BIC=-4091.345, Time=9.349 seconds\n",
            "Fit ARIMA: (1, 1, 1)x(0, 0, 1, 12) (constant=True); AIC=-4131.340, BIC=-4097.387, Time=11.998 seconds\n",
            "Fit ARIMA: (1, 1, 3)x(0, 0, 1, 12) (constant=True); AIC=-4130.639, BIC=-4083.105, Time=26.758 seconds\n",
            "Total fit time: 610.921 seconds\n"
          ],
          "name": "stdout"
        },
        {
          "output_type": "execute_result",
          "data": {
            "text/html": [
              "<table class=\"simpletable\">\n",
              "<caption>Statespace Model Results</caption>\n",
              "<tr>\n",
              "  <th>Dep. Variable:</th>                  <td>y</td>               <th>  No. Observations:  </th>   <td>6573</td>   \n",
              "</tr>\n",
              "<tr>\n",
              "  <th>Model:</th>           <td>SARIMAX(0, 1, 2)x(0, 0, 1, 12)</td> <th>  Log Likelihood     </th> <td>2071.950</td> \n",
              "</tr>\n",
              "<tr>\n",
              "  <th>Date:</th>                   <td>Fri, 01 May 2020</td>        <th>  AIC                </th> <td>-4133.901</td>\n",
              "</tr>\n",
              "<tr>\n",
              "  <th>Time:</th>                       <td>08:33:31</td>            <th>  BIC                </th> <td>-4099.948</td>\n",
              "</tr>\n",
              "<tr>\n",
              "  <th>Sample:</th>                         <td>0</td>               <th>  HQIC               </th> <td>-4122.164</td>\n",
              "</tr>\n",
              "<tr>\n",
              "  <th></th>                             <td> - 6573</td>            <th>                     </th>     <td> </td>    \n",
              "</tr>\n",
              "<tr>\n",
              "  <th>Covariance Type:</th>               <td>opg</td>              <th>                     </th>     <td> </td>    \n",
              "</tr>\n",
              "</table>\n",
              "<table class=\"simpletable\">\n",
              "<tr>\n",
              "      <td></td>         <th>coef</th>     <th>std err</th>      <th>z</th>      <th>P>|z|</th>  <th>[0.025</th>    <th>0.975]</th>  \n",
              "</tr>\n",
              "<tr>\n",
              "  <th>intercept</th> <td>    0.0031</td> <td>    0.002</td> <td>    1.295</td> <td> 0.195</td> <td>   -0.002</td> <td>    0.008</td>\n",
              "</tr>\n",
              "<tr>\n",
              "  <th>ma.L1</th>     <td>    0.0436</td> <td>    0.004</td> <td>   10.081</td> <td> 0.000</td> <td>    0.035</td> <td>    0.052</td>\n",
              "</tr>\n",
              "<tr>\n",
              "  <th>ma.L2</th>     <td>   -0.0358</td> <td>    0.006</td> <td>   -5.596</td> <td> 0.000</td> <td>   -0.048</td> <td>   -0.023</td>\n",
              "</tr>\n",
              "<tr>\n",
              "  <th>ma.S.L12</th>  <td>    0.0351</td> <td>    0.007</td> <td>    4.989</td> <td> 0.000</td> <td>    0.021</td> <td>    0.049</td>\n",
              "</tr>\n",
              "<tr>\n",
              "  <th>sigma2</th>    <td>    0.0312</td> <td>    0.000</td> <td>  196.221</td> <td> 0.000</td> <td>    0.031</td> <td>    0.031</td>\n",
              "</tr>\n",
              "</table>\n",
              "<table class=\"simpletable\">\n",
              "<tr>\n",
              "  <th>Ljung-Box (Q):</th>          <td>97.28</td> <th>  Jarque-Bera (JB):  </th> <td>157999.08</td>\n",
              "</tr>\n",
              "<tr>\n",
              "  <th>Prob(Q):</th>                <td>0.00</td>  <th>  Prob(JB):          </th>   <td>0.00</td>   \n",
              "</tr>\n",
              "<tr>\n",
              "  <th>Heteroskedasticity (H):</th> <td>9.17</td>  <th>  Skew:              </th>   <td>-0.28</td>  \n",
              "</tr>\n",
              "<tr>\n",
              "  <th>Prob(H) (two-sided):</th>    <td>0.00</td>  <th>  Kurtosis:          </th>   <td>27.01</td>  \n",
              "</tr>\n",
              "</table><br/><br/>Warnings:<br/>[1] Covariance matrix calculated using the outer product of gradients (complex-step)."
            ],
            "text/plain": [
              "<class 'statsmodels.iolib.summary.Summary'>\n",
              "\"\"\"\n",
              "                                 Statespace Model Results                                 \n",
              "==========================================================================================\n",
              "Dep. Variable:                                  y   No. Observations:                 6573\n",
              "Model:             SARIMAX(0, 1, 2)x(0, 0, 1, 12)   Log Likelihood                2071.950\n",
              "Date:                            Fri, 01 May 2020   AIC                          -4133.901\n",
              "Time:                                    08:33:31   BIC                          -4099.948\n",
              "Sample:                                         0   HQIC                         -4122.164\n",
              "                                           - 6573                                         \n",
              "Covariance Type:                              opg                                         \n",
              "==============================================================================\n",
              "                 coef    std err          z      P>|z|      [0.025      0.975]\n",
              "------------------------------------------------------------------------------\n",
              "intercept      0.0031      0.002      1.295      0.195      -0.002       0.008\n",
              "ma.L1          0.0436      0.004     10.081      0.000       0.035       0.052\n",
              "ma.L2         -0.0358      0.006     -5.596      0.000      -0.048      -0.023\n",
              "ma.S.L12       0.0351      0.007      4.989      0.000       0.021       0.049\n",
              "sigma2         0.0312      0.000    196.221      0.000       0.031       0.031\n",
              "===================================================================================\n",
              "Ljung-Box (Q):                       97.28   Jarque-Bera (JB):            157999.08\n",
              "Prob(Q):                              0.00   Prob(JB):                         0.00\n",
              "Heteroskedasticity (H):               9.17   Skew:                            -0.28\n",
              "Prob(H) (two-sided):                  0.00   Kurtosis:                        27.01\n",
              "===================================================================================\n",
              "\n",
              "Warnings:\n",
              "[1] Covariance matrix calculated using the outer product of gradients (complex-step).\n",
              "\"\"\""
            ]
          },
          "metadata": {
            "tags": []
          },
          "execution_count": 212
        }
      ]
    },
    {
      "cell_type": "markdown",
      "metadata": {
        "id": "9pJ317lHsqQG",
        "colab_type": "text"
      },
      "source": [
        "so by auto arima me get the best parameters results and its suggested SARIMAX function gives best results with order(0,1,2)"
      ]
    },
    {
      "cell_type": "code",
      "metadata": {
        "id": "ND9RoZ-WspVc",
        "colab_type": "code",
        "colab": {
          "base_uri": "https://localhost:8080/",
          "height": 477
        },
        "outputId": "6d233006-22a7-4e0d-95c4-18f3bdb83389"
      },
      "source": [
        "from statsmodels.tsa.statespace.sarimax import SARIMAX\n",
        "model = SARIMAX(train.INDIA,order=(0,1,2),enforce_invertibility=False)\n",
        "result_SARIMAX = model.fit()\n",
        "result_SARIMAX.summary()"
      ],
      "execution_count": 238,
      "outputs": [
        {
          "output_type": "stream",
          "text": [
            "/usr/local/lib/python3.6/dist-packages/statsmodels/tsa/base/tsa_model.py:165: ValueWarning: No frequency information was provided, so inferred frequency D will be used.\n",
            "  % freq, ValueWarning)\n"
          ],
          "name": "stderr"
        },
        {
          "output_type": "execute_result",
          "data": {
            "text/html": [
              "<table class=\"simpletable\">\n",
              "<caption>Statespace Model Results</caption>\n",
              "<tr>\n",
              "  <th>Dep. Variable:</th>         <td>INDIA</td>      <th>  No. Observations:  </th>   <td>7272</td>   \n",
              "</tr>\n",
              "<tr>\n",
              "  <th>Model:</th>           <td>SARIMAX(0, 1, 2)</td> <th>  Log Likelihood     </th> <td>2210.787</td> \n",
              "</tr>\n",
              "<tr>\n",
              "  <th>Date:</th>            <td>Fri, 01 May 2020</td> <th>  AIC                </th> <td>-4415.575</td>\n",
              "</tr>\n",
              "<tr>\n",
              "  <th>Time:</th>                <td>10:07:27</td>     <th>  BIC                </th> <td>-4394.900</td>\n",
              "</tr>\n",
              "<tr>\n",
              "  <th>Sample:</th>             <td>01-03-2000</td>    <th>  HQIC               </th> <td>-4408.464</td>\n",
              "</tr>\n",
              "<tr>\n",
              "  <th></th>                   <td>- 11-30-2019</td>   <th>                     </th>     <td> </td>    \n",
              "</tr>\n",
              "<tr>\n",
              "  <th>Covariance Type:</th>        <td>opg</td>       <th>                     </th>     <td> </td>    \n",
              "</tr>\n",
              "</table>\n",
              "<table class=\"simpletable\">\n",
              "<tr>\n",
              "     <td></td>       <th>coef</th>     <th>std err</th>      <th>z</th>      <th>P>|z|</th>  <th>[0.025</th>    <th>0.975]</th>  \n",
              "</tr>\n",
              "<tr>\n",
              "  <th>ma.L1</th>  <td>    0.0554</td> <td>    0.004</td> <td>   12.918</td> <td> 0.000</td> <td>    0.047</td> <td>    0.064</td>\n",
              "</tr>\n",
              "<tr>\n",
              "  <th>ma.L2</th>  <td>   -0.0334</td> <td>    0.006</td> <td>   -5.382</td> <td> 0.000</td> <td>   -0.046</td> <td>   -0.021</td>\n",
              "</tr>\n",
              "<tr>\n",
              "  <th>sigma2</th> <td>    0.0319</td> <td>    0.000</td> <td>  195.773</td> <td> 0.000</td> <td>    0.032</td> <td>    0.032</td>\n",
              "</tr>\n",
              "</table>\n",
              "<table class=\"simpletable\">\n",
              "<tr>\n",
              "  <th>Ljung-Box (Q):</th>          <td>122.06</td> <th>  Jarque-Bera (JB):  </th> <td>136699.31</td>\n",
              "</tr>\n",
              "<tr>\n",
              "  <th>Prob(Q):</th>                 <td>0.00</td>  <th>  Prob(JB):          </th>   <td>0.00</td>   \n",
              "</tr>\n",
              "<tr>\n",
              "  <th>Heteroskedasticity (H):</th>  <td>7.28</td>  <th>  Skew:              </th>   <td>-0.34</td>  \n",
              "</tr>\n",
              "<tr>\n",
              "  <th>Prob(H) (two-sided):</th>     <td>0.00</td>  <th>  Kurtosis:          </th>   <td>24.23</td>  \n",
              "</tr>\n",
              "</table><br/><br/>Warnings:<br/>[1] Covariance matrix calculated using the outer product of gradients (complex-step)."
            ],
            "text/plain": [
              "<class 'statsmodels.iolib.summary.Summary'>\n",
              "\"\"\"\n",
              "                           Statespace Model Results                           \n",
              "==============================================================================\n",
              "Dep. Variable:                  INDIA   No. Observations:                 7272\n",
              "Model:               SARIMAX(0, 1, 2)   Log Likelihood                2210.787\n",
              "Date:                Fri, 01 May 2020   AIC                          -4415.575\n",
              "Time:                        10:07:27   BIC                          -4394.900\n",
              "Sample:                    01-03-2000   HQIC                         -4408.464\n",
              "                         - 11-30-2019                                         \n",
              "Covariance Type:                  opg                                         \n",
              "==============================================================================\n",
              "                 coef    std err          z      P>|z|      [0.025      0.975]\n",
              "------------------------------------------------------------------------------\n",
              "ma.L1          0.0554      0.004     12.918      0.000       0.047       0.064\n",
              "ma.L2         -0.0334      0.006     -5.382      0.000      -0.046      -0.021\n",
              "sigma2         0.0319      0.000    195.773      0.000       0.032       0.032\n",
              "===================================================================================\n",
              "Ljung-Box (Q):                      122.06   Jarque-Bera (JB):            136699.31\n",
              "Prob(Q):                              0.00   Prob(JB):                         0.00\n",
              "Heteroskedasticity (H):               7.28   Skew:                            -0.34\n",
              "Prob(H) (two-sided):                  0.00   Kurtosis:                        24.23\n",
              "===================================================================================\n",
              "\n",
              "Warnings:\n",
              "[1] Covariance matrix calculated using the outer product of gradients (complex-step).\n",
              "\"\"\""
            ]
          },
          "metadata": {
            "tags": []
          },
          "execution_count": 238
        }
      ]
    },
    {
      "cell_type": "code",
      "metadata": {
        "id": "r3Lm3MDktOdU",
        "colab_type": "code",
        "colab": {}
      },
      "source": [
        "result_SARIMAX_prediction = result_SARIMAX.forecast(31)"
      ],
      "execution_count": 0,
      "outputs": []
    },
    {
      "cell_type": "code",
      "metadata": {
        "id": "1rg2yRuOtTTw",
        "colab_type": "code",
        "colab": {
          "base_uri": "https://localhost:8080/",
          "height": 631
        },
        "outputId": "dd6b64f7-12fc-4202-ecc8-b4ce35c263c3"
      },
      "source": [
        "test.plot(legend=True,label='TEST')\n",
        "train.INDIA.plot(legend=True,label='Train')\n",
        "result_SARIMAX_prediction.plot(legend=True,label='SARIMAX Predictions',figsize=(19,10));\n"
      ],
      "execution_count": 240,
      "outputs": [
        {
          "output_type": "display_data",
          "data": {
            "image/png": "[encoded data removed]",
            "text/plain": [
              "<Figure size 1368x720 with 1 Axes>"
            ]
          },
          "metadata": {
            "tags": []
          }
        }
      ]
    },
    {
      "cell_type": "code",
      "metadata": {
        "id": "R9winUt8tca3",
        "colab_type": "code",
        "colab": {
          "base_uri": "https://localhost:8080/",
          "height": 34
        },
        "outputId": "b423f07f-69a0-44a9-9a27-6729946ba448"
      },
      "source": [
        "get_mape(unidf.INDIA[\"2019-12-01\":\"2019-12-31\"],result_SARIMAX_prediction.values)"
      ],
      "execution_count": 241,
      "outputs": [
        {
          "output_type": "execute_result",
          "data": {
            "text/plain": [
              "0.76"
            ]
          },
          "metadata": {
            "tags": []
          },
          "execution_count": 241
        }
      ]
    },
    {
      "cell_type": "code",
      "metadata": {
        "id": "61vzhHReuZm_",
        "colab_type": "code",
        "colab": {
          "base_uri": "https://localhost:8080/",
          "height": 34
        },
        "outputId": "f614d555-0fac-42f7-ae75-da75dcb26f5b"
      },
      "source": [
        "print(np.sqrt(mean_squared_error(test.INDIA,result_SARIMAX_prediction.values)))"
      ],
      "execution_count": 247,
      "outputs": [
        {
          "output_type": "stream",
          "text": [
            "0.6025859491776253\n"
          ],
          "name": "stdout"
        }
      ]
    },
    {
      "cell_type": "markdown",
      "metadata": {
        "id": "i8kXXAa2tojU",
        "colab_type": "text"
      },
      "source": [
        "# **Modelling**"
      ]
    },
    {
      "cell_type": "markdown",
      "metadata": {
        "id": "Fjp1Mk5OtdBE",
        "colab_type": "text"
      },
      "source": [
        "**LSTM**"
      ]
    },
    {
      "cell_type": "code",
      "metadata": {
        "id": "RteG87xhvR47",
        "colab_type": "code",
        "colab": {}
      },
      "source": [
        "# Data Conversion Utility\n",
        "\n",
        "def getTimeSeriesData(A, window=7):\n",
        "    X, y = list(), list()\n",
        "    for i in range(len(A)):\n",
        "        end_ix = i + window\n",
        "        if end_ix > len(A) - 1:\n",
        "            break\n",
        "        seq_x, seq_y = A[i:end_ix], A[end_ix]\n",
        "        X.append(seq_x)\n",
        "        y.append(seq_y)\n",
        "    return np.array(X), np.array(y)"
      ],
      "execution_count": 0,
      "outputs": []
    },
    {
      "cell_type": "code",
      "metadata": {
        "id": "hPXvphIVvoWX",
        "colab_type": "code",
        "outputId": "57b7c9ad-639b-40ab-dfc7-647aec752bae",
        "colab": {
          "base_uri": "https://localhost:8080/",
          "height": 187
        }
      },
      "source": [
        "window = 2\n",
        "num_features = 1\n",
        "\n",
        "X, y = getTimeSeriesData(list(unidf[\"INDIA\"]), window=window)\n",
        "print(\"X:\", X.shape)\n",
        "print(\"Y:\", y.shape)\n",
        "\n",
        "# We need to add one more dimension to X, i.e Num of features in 1 sample of time step. as we are doing a univariate prediction which means number of features are 1 only\n",
        "X = X.reshape((X.shape[0], X.shape[1], num_features))  # For LSTM\n",
        "print(\"-----------\")\n",
        "print(\"X:\", X.shape)\n",
        "print(\"Y:\", y.shape)\n",
        "\n",
        "X_train, X_test, y_train, y_test = train_test_split(X, y, test_size=0.3, random_state=42)\n",
        "print(\"-----------\")\n",
        "print(\"X train:\", X_train.shape)\n",
        "print(\"y train:\", y_train.shape)\n",
        "print(\"X test:\", X_test.shape)\n",
        "print(\"y test:\", y_test.shape)"
      ],
      "execution_count": 249,
      "outputs": [
        {
          "output_type": "stream",
          "text": [
            "X: (7301, 2)\n",
            "Y: (7301,)\n",
            "-----------\n",
            "X: (7301, 2, 1)\n",
            "Y: (7301,)\n",
            "-----------\n",
            "X train: (5110, 2, 1)\n",
            "y train: (5110,)\n",
            "X test: (2191, 2, 1)\n",
            "y test: (2191,)\n"
          ],
          "name": "stdout"
        }
      ]
    },
    {
      "cell_type": "code",
      "metadata": {
        "id": "AQ2Wnn66v5s7",
        "colab_type": "code",
        "outputId": "4068e77f-1e2e-4ad7-e5be-8b87e73b66bf",
        "colab": {
          "base_uri": "https://localhost:8080/",
          "height": 697
        }
      },
      "source": [
        "# Define Model\n",
        "model = Sequential()\n",
        "model.add(LSTM(7, activation='relu', input_shape=(window, num_features)))\n",
        "model.add(Dense(1))\n",
        "model.compile(optimizer='adam', loss='mse')\n",
        "history = model.fit(X_train, y_train, epochs=20, verbose=1)"
      ],
      "execution_count": 250,
      "outputs": [
        {
          "output_type": "stream",
          "text": [
            "Epoch 1/20\n",
            "5110/5110 [==============================] - 1s 111us/step - loss: 2138.8606\n",
            "Epoch 2/20\n",
            "5110/5110 [==============================] - 0s 60us/step - loss: 15.5240\n",
            "Epoch 3/20\n",
            "5110/5110 [==============================] - 0s 58us/step - loss: 0.4998\n",
            "Epoch 4/20\n",
            "5110/5110 [==============================] - 0s 65us/step - loss: 0.4665\n",
            "Epoch 5/20\n",
            "5110/5110 [==============================] - 0s 61us/step - loss: 0.4311\n",
            "Epoch 6/20\n",
            "5110/5110 [==============================] - 0s 58us/step - loss: 0.3935\n",
            "Epoch 7/20\n",
            "5110/5110 [==============================] - 0s 59us/step - loss: 0.3569\n",
            "Epoch 8/20\n",
            "5110/5110 [==============================] - 0s 59us/step - loss: 0.3209\n",
            "Epoch 9/20\n",
            "5110/5110 [==============================] - 0s 59us/step - loss: 0.2854\n",
            "Epoch 10/20\n",
            "5110/5110 [==============================] - 0s 59us/step - loss: 0.2477\n",
            "Epoch 11/20\n",
            "5110/5110 [==============================] - 0s 60us/step - loss: 0.1533\n",
            "Epoch 12/20\n",
            "5110/5110 [==============================] - 0s 60us/step - loss: 0.0649\n",
            "Epoch 13/20\n",
            "5110/5110 [==============================] - 0s 60us/step - loss: 0.0547\n",
            "Epoch 14/20\n",
            "5110/5110 [==============================] - 0s 58us/step - loss: 0.0535\n",
            "Epoch 15/20\n",
            "5110/5110 [==============================] - 0s 61us/step - loss: 0.0533\n",
            "Epoch 16/20\n",
            "5110/5110 [==============================] - 0s 58us/step - loss: 0.0533\n",
            "Epoch 17/20\n",
            "5110/5110 [==============================] - 0s 58us/step - loss: 0.0530\n",
            "Epoch 18/20\n",
            "5110/5110 [==============================] - 0s 59us/step - loss: 0.0532\n",
            "Epoch 19/20\n",
            "5110/5110 [==============================] - 0s 59us/step - loss: 0.0532\n",
            "Epoch 20/20\n",
            "5110/5110 [==============================] - 0s 60us/step - loss: 0.0531\n"
          ],
          "name": "stdout"
        }
      ]
    },
    {
      "cell_type": "code",
      "metadata": {
        "id": "lA5FAwpHwEP7",
        "colab_type": "code",
        "outputId": "66e45768-5c49-4711-ea21-9670e3347e72",
        "colab": {
          "base_uri": "https://localhost:8080/",
          "height": 301
        }
      },
      "source": [
        "plt.plot(history.history[\"loss\"])\n",
        "#plt.plot(history.history[\"val_loss\"])\n",
        "plt.title(\"Model Loss\")\n",
        "plt.ylabel('Loss')\n",
        "plt.xlabel('epoch')\n",
        "plt.legend(['train'], loc='upper left')\n",
        "plt.show()"
      ],
      "execution_count": 251,
      "outputs": [
        {
          "output_type": "display_data",
          "data": {
            "image/png": "[encoded data removed]",
            "text/plain": [
              "<Figure size 432x288 with 1 Axes>"
            ]
          },
          "metadata": {
            "tags": []
          }
        }
      ]
    },
    {
      "cell_type": "code",
      "metadata": {
        "id": "k70tttKRwT4y",
        "colab_type": "code",
        "outputId": "d05836c9-a68a-436d-9d0c-5815d2bdd597",
        "colab": {
          "base_uri": "https://localhost:8080/",
          "height": 51
        }
      },
      "source": [
        "yPred = model.predict(X_test, verbose=0)\n",
        "yPred.shape = yPred.shape[0]\n",
        "yPred"
      ],
      "execution_count": 252,
      "outputs": [
        {
          "output_type": "execute_result",
          "data": {
            "text/plain": [
              "array([48.317833, 49.64553 , 44.34499 , ..., 62.437443, 46.06539 ,\n",
              "       69.356476], dtype=float32)"
            ]
          },
          "metadata": {
            "tags": []
          },
          "execution_count": 252
        }
      ]
    },
    {
      "cell_type": "code",
      "metadata": {
        "id": "-1lP_R6hwfvU",
        "colab_type": "code",
        "outputId": "46e81630-49d6-4063-f3ac-40f42d000561",
        "colab": {
          "base_uri": "https://localhost:8080/",
          "height": 183
        }
      },
      "source": [
        "points = 200\n",
        "plt.figure(figsize=(30,5))\n",
        "sns.set(rc={\"lines.linewidth\": 8})\n",
        "sns.lineplot(x=np.arange(points), y=y_test[:points], color=\"green\")\n",
        "sns.set(rc={\"lines.linewidth\": 3})\n",
        "sns.lineplot(x=np.arange(points), y=yPred[:points], color=\"coral\")\n",
        "plt.margins(x=0, y=0.5)\n",
        "plt.legend([\"Original\", \"Predicted\"])"
      ],
      "execution_count": 253,
      "outputs": [
        {
          "output_type": "execute_result",
          "data": {
            "text/plain": [
              "<matplotlib.legend.Legend at 0x7fbafef1bb70>"
            ]
          },
          "metadata": {
            "tags": []
          },
          "execution_count": 253
        },
        {
          "output_type": "display_data",
          "data": {
            "image/png": "[encoded data removed]",
            "text/plain": [
              "<Figure size 2160x360 with 1 Axes>"
            ]
          },
          "metadata": {
            "tags": []
          }
        }
      ]
    },
    {
      "cell_type": "code",
      "metadata": {
        "id": "BbA6sx4_hRor",
        "colab_type": "code",
        "outputId": "024ac6bc-7669-47e7-817c-15ecd29b2369",
        "colab": {
          "base_uri": "https://localhost:8080/",
          "height": 68
        }
      },
      "source": [
        "from sklearn.metrics import mean_absolute_error\n",
        "from sklearn.metrics import mean_squared_error\n",
        "print(mean_absolute_error(y_test, yPred))\n",
        "print(mean_squared_error(y_test, yPred))\n",
        "print(np.sqrt(mean_squared_error(y_test, yPred)))"
      ],
      "execution_count": 254,
      "outputs": [
        {
          "output_type": "stream",
          "text": [
            "0.13977073392703124\n",
            "0.04916412745516259\n",
            "0.22172985242218196\n"
          ],
          "name": "stdout"
        }
      ]
    },
    {
      "cell_type": "markdown",
      "metadata": {
        "id": "gI1pi-Yob6GO",
        "colab_type": "text"
      },
      "source": [
        "# **References**"
      ]
    },
    {
      "cell_type": "markdown",
      "metadata": {
        "id": "Fe4oTu_Odx2q",
        "colab_type": "text"
      },
      "source": [
        "1.   https://www.babypips.com/learn/forex/simple-moving-averages\n",
        "3. https://www.kaggle.com/voltvipin/indian-foreign-exchange-prediction-using-lstm\n",
        "4.  https://towardsdatascience.com/arima-forecasting-in-python-90d36c2246d3    \n",
        "5.  https://www.geeksforgeeks.org/working-with-missing-data-in-pandas/"
      ]
    }
  ]
}